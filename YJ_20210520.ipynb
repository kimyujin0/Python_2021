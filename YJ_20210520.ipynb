{
 "cells": [
  {
   "cell_type": "code",
   "execution_count": 2,
   "id": "93ac95e8",
   "metadata": {},
   "outputs": [
    {
     "data": {
      "text/plain": [
       "4"
      ]
     },
     "execution_count": 2,
     "metadata": {},
     "output_type": "execute_result"
    }
   ],
   "source": [
    "1+3"
   ]
  },
  {
   "cell_type": "code",
   "execution_count": 3,
   "id": "bfc0dca1",
   "metadata": {},
   "outputs": [
    {
     "name": "stdout",
     "output_type": "stream",
     "text": [
      "4\n"
     ]
    }
   ],
   "source": [
    "print(1+3)"
   ]
  },
  {
   "cell_type": "code",
   "execution_count": 4,
   "id": "60e88650",
   "metadata": {},
   "outputs": [],
   "source": [
    "a =1"
   ]
  },
  {
   "cell_type": "code",
   "execution_count": 5,
   "id": "25da8a52",
   "metadata": {},
   "outputs": [],
   "source": [
    "b = 2"
   ]
  },
  {
   "cell_type": "code",
   "execution_count": 6,
   "id": "3246e6a3",
   "metadata": {},
   "outputs": [],
   "source": [
    "c = a+b"
   ]
  },
  {
   "cell_type": "code",
   "execution_count": 7,
   "id": "647d569f",
   "metadata": {},
   "outputs": [
    {
     "name": "stdout",
     "output_type": "stream",
     "text": [
      "3\n"
     ]
    }
   ],
   "source": [
    "print(c)"
   ]
  },
  {
   "cell_type": "code",
   "execution_count": 9,
   "id": "52e85736",
   "metadata": {},
   "outputs": [
    {
     "name": "stdout",
     "output_type": "stream",
     "text": [
      "5\n"
     ]
    }
   ],
   "source": [
    "a =1\n",
    "b =2\n",
    "c =a+b\n",
    "print(c)"
   ]
  },
  {
   "cell_type": "code",
   "execution_count": 1,
   "id": "69298a5e",
   "metadata": {},
   "outputs": [
    {
     "data": {
      "text/plain": [
       "3400.0"
      ]
     },
     "execution_count": 1,
     "metadata": {},
     "output_type": "execute_result"
    }
   ],
   "source": [
    "3.4e3"
   ]
  },
  {
   "cell_type": "code",
   "execution_count": 2,
   "id": "606cb93d",
   "metadata": {},
   "outputs": [
    {
     "data": {
      "text/plain": [
       "0.0034"
      ]
     },
     "execution_count": 2,
     "metadata": {},
     "output_type": "execute_result"
    }
   ],
   "source": [
    "3.4e-3"
   ]
  },
  {
   "cell_type": "code",
   "execution_count": 3,
   "id": "b361835c",
   "metadata": {},
   "outputs": [
    {
     "data": {
      "text/plain": [
       "9"
      ]
     },
     "execution_count": 3,
     "metadata": {},
     "output_type": "execute_result"
    }
   ],
   "source": [
    "3**2 # 주석,제곱"
   ]
  },
  {
   "cell_type": "code",
   "execution_count": null,
   "id": "dd80e36b",
   "metadata": {},
   "outputs": [],
   "source": [
    "3^2 # 에러"
   ]
  },
  {
   "cell_type": "code",
   "execution_count": 7,
   "id": "c029a9a9",
   "metadata": {},
   "outputs": [],
   "source": [
    "# 제고 5\n",
    "# 3개마다 1박스 구성 가능\n",
    "# 출하 가능 박스 개수\n",
    "# 남은 재고 개수"
   ]
  },
  {
   "cell_type": "code",
   "execution_count": 9,
   "id": "e3a797a0",
   "metadata": {},
   "outputs": [
    {
     "name": "stdout",
     "output_type": "stream",
     "text": [
      "출하가능 박스:\t1개\n",
      "출하 후 재고:\t2개\n"
     ]
    }
   ],
   "source": [
    "stock_current = 5\n",
    "package_size = 3\n",
    "\n",
    "box_available = stock_current // package_size\n",
    "stock_current = stock_current % package_size\n",
    "#stock_current = stock_current - box_available * package_size\n",
    "\n",
    "print(\"출하가능 박스:\\t\"+str(box_available)+\"개\")\n",
    "print(\"출하 후 재고:\\t\"+str(stock_current)+\"개\")\n",
    "\n",
    "# \\t : 표로 만들 때 줄 맞추어줌 (tab), str : 글자로 바꾸는 함수 사용"
   ]
  },
  {
   "cell_type": "code",
   "execution_count": 10,
   "id": "4d4ae4f5",
   "metadata": {},
   "outputs": [
    {
     "name": "stdout",
     "output_type": "stream",
     "text": [
      "사과\n",
      "자두\n",
      "수박\n"
     ]
    }
   ],
   "source": [
    "# 문자열 자료형\n",
    "print(\"사과\")\n",
    "print('자두')\n",
    "print(\"\"\"수박\"\"\")"
   ]
  },
  {
   "cell_type": "code",
   "execution_count": 12,
   "id": "5002c3ac",
   "metadata": {},
   "outputs": [
    {
     "name": "stdout",
     "output_type": "stream",
     "text": [
      "He said that \"I am so happy\".\n"
     ]
    }
   ],
   "source": [
    "# He said that \"I am so happy\".\n",
    "print('He said that \"I am so happy\".')"
   ]
  },
  {
   "cell_type": "code",
   "execution_count": 13,
   "id": "ce31a865",
   "metadata": {},
   "outputs": [
    {
     "name": "stdout",
     "output_type": "stream",
     "text": [
      "I am can be written as I'm\n"
     ]
    }
   ],
   "source": [
    "# I am can be written as I'm\n",
    "print(\"I am can be written as I'm\")"
   ]
  },
  {
   "cell_type": "code",
   "execution_count": 18,
   "id": "4c72e1f0",
   "metadata": {},
   "outputs": [
    {
     "name": "stdout",
     "output_type": "stream",
     "text": [
      "best\n",
      "music\n",
      "award\n"
     ]
    }
   ],
   "source": [
    "print(\"best\\nmusic\\naward\")"
   ]
  },
  {
   "cell_type": "code",
   "execution_count": 28,
   "id": "0b03c11f",
   "metadata": {},
   "outputs": [
    {
     "name": "stdout",
     "output_type": "stream",
     "text": [
      "안녕하세요김유진님 만나서 반갑습니다\n"
     ]
    }
   ],
   "source": [
    "greeting = \"안녕하세요\"\n",
    "name = \"김유진\"\n",
    "greeting2 = \"님 만나서 반갑습니다\"\n",
    "sentence1 = greeting + name + greeting2\n",
    "print(sentence1)"
   ]
  },
  {
   "cell_type": "code",
   "execution_count": 21,
   "id": "deda2dc9",
   "metadata": {},
   "outputs": [
    {
     "data": {
      "text/plain": [
       "'Python is fun!'"
      ]
     },
     "execution_count": 21,
     "metadata": {},
     "output_type": "execute_result"
    }
   ],
   "source": [
    "head = \"Python\"\n",
    "tail = \" is fun!\"\n",
    "head+tail"
   ]
  },
  {
   "cell_type": "code",
   "execution_count": 22,
   "id": "88a2b0db",
   "metadata": {},
   "outputs": [
    {
     "data": {
      "text/plain": [
       "'pythonpython'"
      ]
     },
     "execution_count": 22,
     "metadata": {},
     "output_type": "execute_result"
    }
   ],
   "source": [
    "a = \"python\"\n",
    "a *2"
   ]
  },
  {
   "cell_type": "code",
   "execution_count": 35,
   "id": "c8429614",
   "metadata": {},
   "outputs": [
    {
     "name": "stdout",
     "output_type": "stream",
     "text": [
      "안녕하세요김유진님 만나서 정말 정말 정말 반갑습니다\n"
     ]
    }
   ],
   "source": [
    "friendly = 3\n",
    "expression1 = \" 정말\"\n",
    "greeting2 = \"님 만나서\"\n",
    "greeting3 = \" 반갑습니다\"\n",
    "sentence1 = greeting+name+greeting2\\\n",
    "            +expression1*friendly+greeting3\n",
    "print(sentence1)"
   ]
  },
  {
   "cell_type": "code",
   "execution_count": 40,
   "id": "bcb75d7a",
   "metadata": {},
   "outputs": [],
   "source": [
    "first_over_count = 0\n",
    "second_over_count = 0"
   ]
  },
  {
   "cell_type": "code",
   "execution_count": 41,
   "id": "53cdb289",
   "metadata": {},
   "outputs": [
    {
     "name": "stdout",
     "output_type": "stream",
     "text": [
      "first_over_count:0\n",
      "second_over_count:0\n"
     ]
    }
   ],
   "source": [
    "first_name = \"유진\"\n",
    "second_name = '김'\n",
    "if len(first_name) > 3:\n",
    "    print(\"이름 길이 초과 탐색\")\n",
    "    first_over_count+=1\n",
    "if len(second_name) > 1:\n",
    "    print(\"성 길이 초과 탐색\")\n",
    "    second_over_count+=1\n",
    "print(\"first_over_count:\"+str(first_over_count))\n",
    "print(\"second_over_count:\"+str(second_over_count))"
   ]
  },
  {
   "cell_type": "code",
   "execution_count": 42,
   "id": "1eb78a76",
   "metadata": {},
   "outputs": [
    {
     "name": "stdout",
     "output_type": "stream",
     "text": [
      "성 길이 초과 탐색\n",
      "first_over_count:0\n",
      "second_over_count:1\n"
     ]
    }
   ],
   "source": [
    "first_name = \"용녀\"\n",
    "second_name = '선우'\n",
    "if len(first_name) > 3:\n",
    "    print(\"이름 길이 초과 탐색\")\n",
    "    first_over_count+=1\n",
    "if len(second_name) > 1:\n",
    "    print(\"성 길이 초과 탐색\")\n",
    "    second_over_count+=1\n",
    "print(\"first_over_count:\"+str(first_over_count))\n",
    "print(\"second_over_count:\"+str(second_over_count))"
   ]
  },
  {
   "cell_type": "code",
   "execution_count": 43,
   "id": "d5e3fea8",
   "metadata": {},
   "outputs": [
    {
     "name": "stdout",
     "output_type": "stream",
     "text": [
      "성 길이 초과 탐색\n",
      "first_over_count:0\n",
      "second_over_count:2\n"
     ]
    }
   ],
   "source": [
    "first_name = \"공명\"\n",
    "second_name = \"제갈\"\n",
    "if len(first_name) > 3:\n",
    "    print(\"이름 길이 초과 탐색\")\n",
    "    first_over_count+=1\n",
    "if len(second_name) > 1:\n",
    "    print(\"성 길이 초과 탐색\")\n",
    "    second_over_count+=1\n",
    "print(\"first_over_count:\"+str(first_over_count))\n",
    "print(\"second_over_count:\"+str(second_over_count))"
   ]
  },
  {
   "cell_type": "code",
   "execution_count": null,
   "id": "d347e2e4",
   "metadata": {},
   "outputs": [],
   "source": []
  }
 ],
 "metadata": {
  "kernelspec": {
   "display_name": "Python 3",
   "language": "python",
   "name": "python3"
  },
  "language_info": {
   "codemirror_mode": {
    "name": "ipython",
    "version": 3
   },
   "file_extension": ".py",
   "mimetype": "text/x-python",
   "name": "python",
   "nbconvert_exporter": "python",
   "pygments_lexer": "ipython3",
   "version": "3.8.8"
  }
 },
 "nbformat": 4,
 "nbformat_minor": 5
}
