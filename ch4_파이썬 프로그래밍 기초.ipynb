{
 "cells": [
  {
   "cell_type": "code",
   "execution_count": 1,
   "id": "fde1b8ec",
   "metadata": {},
   "outputs": [
    {
     "data": {
      "text/plain": [
       "'N'"
      ]
     },
     "execution_count": 1,
     "metadata": {},
     "output_type": "execute_result"
    }
   ],
   "source": [
    "# 문자열 인덱싱\n",
    "a = \"Now is better than never\"\n",
    "a[0]"
   ]
  },
  {
   "cell_type": "code",
   "execution_count": 2,
   "id": "8693f7ec",
   "metadata": {},
   "outputs": [
    {
     "data": {
      "text/plain": [
       "'e'"
      ]
     },
     "execution_count": 2,
     "metadata": {},
     "output_type": "execute_result"
    }
   ],
   "source": [
    "a[-4]"
   ]
  },
  {
   "cell_type": "code",
   "execution_count": 4,
   "id": "09e0579e",
   "metadata": {},
   "outputs": [
    {
     "data": {
      "text/plain": [
       "'Now'"
      ]
     },
     "execution_count": 4,
     "metadata": {},
     "output_type": "execute_result"
    }
   ],
   "source": [
    "# 문자열 슬라이싱\n",
    "b = a[0]+a[1]+a[2]\n",
    "b"
   ]
  },
  {
   "cell_type": "code",
   "execution_count": 7,
   "id": "7fa0fb86",
   "metadata": {},
   "outputs": [
    {
     "data": {
      "text/plain": [
       "1"
      ]
     },
     "execution_count": 7,
     "metadata": {},
     "output_type": "execute_result"
    }
   ],
   "source": [
    "# 문자 개수 계산(count)\n",
    "a = \"python\"\n",
    "a.count('p')"
   ]
  },
  {
   "cell_type": "code",
   "execution_count": 14,
   "id": "84253cf0",
   "metadata": {},
   "outputs": [
    {
     "name": "stdout",
     "output_type": "stream",
     "text": [
      "1 -1\n"
     ]
    }
   ],
   "source": [
    "# 문자 위치 확인\n",
    "a.find('y')\n",
    "a.find('p')\n",
    "print(a.find('y'), a.find('P'))  # 문자가 없으면 -1 출력"
   ]
  },
  {
   "cell_type": "code",
   "execution_count": 16,
   "id": "ef92eaff",
   "metadata": {},
   "outputs": [
    {
     "ename": "ValueError",
     "evalue": "substring not found",
     "output_type": "error",
     "traceback": [
      "\u001b[1;31m---------------------------------------------------------------------------\u001b[0m",
      "\u001b[1;31mValueError\u001b[0m                                Traceback (most recent call last)",
      "\u001b[1;32m<ipython-input-16-b4ef1cfad7d2>\u001b[0m in \u001b[0;36m<module>\u001b[1;34m\u001b[0m\n\u001b[0;32m      1\u001b[0m \u001b[0ma\u001b[0m\u001b[1;33m.\u001b[0m\u001b[0mindex\u001b[0m\u001b[1;33m(\u001b[0m\u001b[1;34m'y'\u001b[0m\u001b[1;33m)\u001b[0m\u001b[1;33m\u001b[0m\u001b[1;33m\u001b[0m\u001b[0m\n\u001b[1;32m----> 2\u001b[1;33m \u001b[0ma\u001b[0m\u001b[1;33m.\u001b[0m\u001b[0mindex\u001b[0m\u001b[1;33m(\u001b[0m\u001b[1;34m'P'\u001b[0m\u001b[1;33m)\u001b[0m \u001b[1;31m# 문자가 없으면 에러\u001b[0m\u001b[1;33m\u001b[0m\u001b[1;33m\u001b[0m\u001b[0m\n\u001b[0m",
      "\u001b[1;31mValueError\u001b[0m: substring not found"
     ]
    }
   ],
   "source": [
    "a.index('y')\n",
    "a.index('P') # 문자가 없으면 에러"
   ]
  },
  {
   "cell_type": "code",
   "execution_count": 18,
   "id": "208d828c",
   "metadata": {},
   "outputs": [
    {
     "data": {
      "text/plain": [
       "'a,p,p,l,e'"
      ]
     },
     "execution_count": 18,
     "metadata": {},
     "output_type": "execute_result"
    }
   ],
   "source": [
    "# 문자 삽입 (join) - 한 글자에 한 개씩 삽입\n",
    "b = ','\n",
    "c = b.join('apple')\n",
    "c"
   ]
  },
  {
   "cell_type": "code",
   "execution_count": 19,
   "id": "906faa9e",
   "metadata": {},
   "outputs": [
    {
     "data": {
      "text/plain": [
       "'py  thon     '"
      ]
     },
     "execution_count": 19,
     "metadata": {},
     "output_type": "execute_result"
    }
   ],
   "source": [
    "# 공백 제거\n",
    "d = \"       py  thon     \"\n",
    "d.lstrip()          # 문자 앞 공백 제거"
   ]
  },
  {
   "cell_type": "code",
   "execution_count": 20,
   "id": "ca447dff",
   "metadata": {},
   "outputs": [
    {
     "data": {
      "text/plain": [
       "'       py  thon'"
      ]
     },
     "execution_count": 20,
     "metadata": {},
     "output_type": "execute_result"
    }
   ],
   "source": [
    "d.rstrip()         # 문자 뒤 공백 제거"
   ]
  },
  {
   "cell_type": "code",
   "execution_count": 21,
   "id": "1d3fabff",
   "metadata": {},
   "outputs": [
    {
     "data": {
      "text/plain": [
       "'py  thon'"
      ]
     },
     "execution_count": 21,
     "metadata": {},
     "output_type": "execute_result"
    }
   ],
   "source": [
    "d.strip()         # 문자 앞 뒤 공백 제거"
   ]
  },
  {
   "cell_type": "code",
   "execution_count": 22,
   "id": "fcbd594f",
   "metadata": {},
   "outputs": [
    {
     "data": {
      "text/plain": [
       "'python is funny.'"
      ]
     },
     "execution_count": 22,
     "metadata": {},
     "output_type": "execute_result"
    }
   ],
   "source": [
    "# 문자열 바꾸기 (replace)\n",
    "a = \"python is difficult.\"\n",
    "a.replace(\"difficult\", \"funny\")"
   ]
  },
  {
   "cell_type": "code",
   "execution_count": 23,
   "id": "a93ac7bc",
   "metadata": {},
   "outputs": [
    {
     "data": {
      "text/plain": [
       "['python', 'is', 'difficult.']"
      ]
     },
     "execution_count": 23,
     "metadata": {},
     "output_type": "execute_result"
    }
   ],
   "source": [
    "# 문자열 나누기\n",
    "a.split()"
   ]
  },
  {
   "cell_type": "code",
   "execution_count": 24,
   "id": "76d0086f",
   "metadata": {},
   "outputs": [
    {
     "data": {
      "text/plain": [
       "['a', 'b', 'c', 'd']"
      ]
     },
     "execution_count": 24,
     "metadata": {},
     "output_type": "execute_result"
    }
   ],
   "source": [
    "b = 'a,b,c,d'\n",
    "b.split(',')"
   ]
  },
  {
   "cell_type": "code",
   "execution_count": 25,
   "id": "9f7bd6a8",
   "metadata": {},
   "outputs": [],
   "source": [
    "# 리스트 만들기\n",
    "a = [1,2,3]\n",
    "b = ['Life', 'is','too','short']\n",
    "c = [1,2, 'Life','is']\n",
    "d = [1,2,[3,4],['Life','is']]"
   ]
  },
  {
   "cell_type": "code",
   "execution_count": 26,
   "id": "dca577e4",
   "metadata": {},
   "outputs": [
    {
     "data": {
      "text/plain": [
       "1"
      ]
     },
     "execution_count": 26,
     "metadata": {},
     "output_type": "execute_result"
    }
   ],
   "source": [
    "d[0]"
   ]
  },
  {
   "cell_type": "code",
   "execution_count": 27,
   "id": "fb98f394",
   "metadata": {},
   "outputs": [
    {
     "data": {
      "text/plain": [
       "'is'"
      ]
     },
     "execution_count": 27,
     "metadata": {},
     "output_type": "execute_result"
    }
   ],
   "source": [
    "d[3][-1]"
   ]
  },
  {
   "cell_type": "code",
   "execution_count": 28,
   "id": "88529b84",
   "metadata": {},
   "outputs": [
    {
     "data": {
      "text/plain": [
       "[1, 2, [3, 4]]"
      ]
     },
     "execution_count": 28,
     "metadata": {},
     "output_type": "execute_result"
    }
   ],
   "source": [
    "# 리스트 슬라이싱\n",
    "d[0:3]"
   ]
  },
  {
   "cell_type": "code",
   "execution_count": 29,
   "id": "c30dd835",
   "metadata": {},
   "outputs": [
    {
     "data": {
      "text/plain": [
       "[1, 2, 99]"
      ]
     },
     "execution_count": 29,
     "metadata": {},
     "output_type": "execute_result"
    }
   ],
   "source": [
    "# 리스트 수정\n",
    "a[2]=99\n",
    "a"
   ]
  },
  {
   "cell_type": "code",
   "execution_count": 31,
   "id": "076bfb26",
   "metadata": {},
   "outputs": [
    {
     "data": {
      "text/plain": [
       "[1, 'a', 'b', 'c', 'b', 'c', 99]"
      ]
     },
     "execution_count": 31,
     "metadata": {},
     "output_type": "execute_result"
    }
   ],
   "source": [
    "a[1:2]=['a','b','c']\n",
    "a"
   ]
  },
  {
   "cell_type": "code",
   "execution_count": 34,
   "id": "34b24be0",
   "metadata": {},
   "outputs": [
    {
     "data": {
      "text/plain": [
       "[1, 'a', 'b', 'c']"
      ]
     },
     "execution_count": 34,
     "metadata": {},
     "output_type": "execute_result"
    }
   ],
   "source": [
    "# 삭제 (del)\n",
    "del a[-1]\n",
    "a"
   ]
  },
  {
   "cell_type": "code",
   "execution_count": 35,
   "id": "4abb6dd2",
   "metadata": {},
   "outputs": [
    {
     "data": {
      "text/plain": [
       "[1, 'a', 'b', 'c', 5]"
      ]
     },
     "execution_count": 35,
     "metadata": {},
     "output_type": "execute_result"
    }
   ],
   "source": [
    "# 원소 추가 (append)\n",
    "a.append(5)\n",
    "a                   # 마지막 원소에 추가"
   ]
  },
  {
   "cell_type": "code",
   "execution_count": 36,
   "id": "3a7ccb55",
   "metadata": {},
   "outputs": [
    {
     "data": {
      "text/plain": [
       "['Life', 'is', 'short', 'too']"
      ]
     },
     "execution_count": 36,
     "metadata": {},
     "output_type": "execute_result"
    }
   ],
   "source": [
    "# 원소 정렬 (sort)\n",
    "b.sort()\n",
    "b      # 기본은 오름차순"
   ]
  },
  {
   "cell_type": "code",
   "execution_count": 37,
   "id": "f92e8e74",
   "metadata": {},
   "outputs": [
    {
     "data": {
      "text/plain": [
       "['too', 'short', 'is', 'Life']"
      ]
     },
     "execution_count": 37,
     "metadata": {},
     "output_type": "execute_result"
    }
   ],
   "source": [
    "b.sort(reverse=True)\n",
    "b     # True - 내림차순"
   ]
  },
  {
   "cell_type": "code",
   "execution_count": 39,
   "id": "ac089d17",
   "metadata": {},
   "outputs": [
    {
     "data": {
      "text/plain": [
       "[99, 1, 'a', 'b', 'c', 5]"
      ]
     },
     "execution_count": 39,
     "metadata": {},
     "output_type": "execute_result"
    }
   ],
   "source": [
    "# 원소 삽입\n",
    "a.insert(0,99)\n",
    "a                # 0번 자리에 원소 추가"
   ]
  },
  {
   "cell_type": "code",
   "execution_count": 40,
   "id": "b79a3d71",
   "metadata": {},
   "outputs": [],
   "source": [
    "# 튜플 만들기 - 원소의 값을 변경할 수 없음\n",
    "t1 = (1,)\n",
    "t2 = (1,2,3)\n",
    "t3 = 1,2,3\n",
    "t4 = (1,2,(3,4),('Life','is'))"
   ]
  },
  {
   "cell_type": "code",
   "execution_count": 41,
   "id": "6bb30242",
   "metadata": {},
   "outputs": [
    {
     "data": {
      "text/plain": [
       "1"
      ]
     },
     "execution_count": 41,
     "metadata": {},
     "output_type": "execute_result"
    }
   ],
   "source": [
    "t4[0]"
   ]
  },
  {
   "cell_type": "code",
   "execution_count": 42,
   "id": "89b40db1",
   "metadata": {},
   "outputs": [
    {
     "data": {
      "text/plain": [
       "(1, 2, (3, 4))"
      ]
     },
     "execution_count": 42,
     "metadata": {},
     "output_type": "execute_result"
    }
   ],
   "source": [
    "# 튜플 슬라이싱\n",
    "t4[0:3]"
   ]
  },
  {
   "cell_type": "code",
   "execution_count": 43,
   "id": "4ddb22d8",
   "metadata": {},
   "outputs": [],
   "source": [
    "# 딕셔너리 만들기 - 원소는 순서를 가지지 않으므로 인덱스 대신 key 사용하여 원소 지정, key:value 형태\n",
    "dic = {'name':'Hong','phone':'01012345678','birth':'0814'}"
   ]
  },
  {
   "cell_type": "code",
   "execution_count": 54,
   "id": "a36f6a8b",
   "metadata": {},
   "outputs": [
    {
     "data": {
      "text/plain": [
       "{'name': 'Hong',\n",
       " 'phone': '01012345678',\n",
       " 'birth': '0814',\n",
       " 1: 'a',\n",
       " 'pet': 'dog',\n",
       " 2: 'a'}"
      ]
     },
     "execution_count": 54,
     "metadata": {},
     "output_type": "execute_result"
    }
   ],
   "source": [
    "# 원소 추가\n",
    "dic[2] ='a'\n",
    "dic"
   ]
  },
  {
   "cell_type": "code",
   "execution_count": 55,
   "id": "796fa9ad",
   "metadata": {},
   "outputs": [
    {
     "data": {
      "text/plain": [
       "{'name': 'Hong',\n",
       " 'phone': '01012345678',\n",
       " 'birth': '0814',\n",
       " 1: 'a',\n",
       " 'pet': 'dog',\n",
       " 2: 'a'}"
      ]
     },
     "execution_count": 55,
     "metadata": {},
     "output_type": "execute_result"
    }
   ],
   "source": [
    "dic['pet']='dog'\n",
    "dic"
   ]
  },
  {
   "cell_type": "code",
   "execution_count": 56,
   "id": "dcaad10f",
   "metadata": {},
   "outputs": [
    {
     "data": {
      "text/plain": [
       "{'name': 'Hong', 'phone': '01012345678', 'birth': '0814', 1: 'a', 'pet': 'dog'}"
      ]
     },
     "execution_count": 56,
     "metadata": {},
     "output_type": "execute_result"
    }
   ],
   "source": [
    "# 원소 삭제\n",
    "del dic[2]\n",
    "dic"
   ]
  },
  {
   "cell_type": "code",
   "execution_count": 57,
   "id": "422f2ff1",
   "metadata": {},
   "outputs": [
    {
     "data": {
      "text/plain": [
       "'dog'"
      ]
     },
     "execution_count": 57,
     "metadata": {},
     "output_type": "execute_result"
    }
   ],
   "source": [
    "# 원소의 value\n",
    "dic['pet']"
   ]
  },
  {
   "cell_type": "code",
   "execution_count": 60,
   "id": "306d2e8f",
   "metadata": {},
   "outputs": [
    {
     "data": {
      "text/plain": [
       "['name', 'phone', 'birth', 1, 'pet']"
      ]
     },
     "execution_count": 60,
     "metadata": {},
     "output_type": "execute_result"
    }
   ],
   "source": [
    "# key의 리스트 만들기 (keys)\n",
    "dic.keys()\n",
    "list(dic.keys())"
   ]
  },
  {
   "cell_type": "code",
   "execution_count": 61,
   "id": "5498afc5",
   "metadata": {},
   "outputs": [
    {
     "data": {
      "text/plain": [
       "['Hong', '01012345678', '0814', 'a', 'dog']"
      ]
     },
     "execution_count": 61,
     "metadata": {},
     "output_type": "execute_result"
    }
   ],
   "source": [
    "# value의 리스트 만들기 (values)\n",
    "dic.values()\n",
    "list(dic.values())"
   ]
  },
  {
   "cell_type": "code",
   "execution_count": 62,
   "id": "d7ff2a9f",
   "metadata": {},
   "outputs": [
    {
     "data": {
      "text/plain": [
       "dict_items([('name', 'Hong'), ('phone', '01012345678'), ('birth', '0814'), (1, 'a'), ('pet', 'dog')])"
      ]
     },
     "execution_count": 62,
     "metadata": {},
     "output_type": "execute_result"
    }
   ],
   "source": [
    "# key와 value 쌍 구하기 (items)\n",
    "dic.items()"
   ]
  },
  {
   "cell_type": "code",
   "execution_count": 63,
   "id": "565040be",
   "metadata": {},
   "outputs": [
    {
     "data": {
      "text/plain": [
       "{}"
      ]
     },
     "execution_count": 63,
     "metadata": {},
     "output_type": "execute_result"
    }
   ],
   "source": [
    "# 원소 전체 삭제\n",
    "dic.clear()\n",
    "dic"
   ]
  },
  {
   "cell_type": "code",
   "execution_count": null,
   "id": "899a88fa",
   "metadata": {},
   "outputs": [],
   "source": [
    "# 인덱스 사용 가능 - 문자열(''), 리스트[], 튜플()\n",
    "# 인덱스 사용 불가능 - 딕셔너리(dic), 집합(set)"
   ]
  },
  {
   "cell_type": "code",
   "execution_count": 64,
   "id": "ce694e78",
   "metadata": {},
   "outputs": [
    {
     "name": "stdout",
     "output_type": "stream",
     "text": [
      "버스를 탈 수 있습니다\n"
     ]
    }
   ],
   "source": [
    "# 조건문과 반복문\n",
    "# if문\n",
    "money = 1300\n",
    "if money >=1200 and money <3500:\n",
    "    print('버스를 탈 수 있습니다')"
   ]
  },
  {
   "cell_type": "code",
   "execution_count": 65,
   "id": "e275920a",
   "metadata": {},
   "outputs": [
    {
     "name": "stdout",
     "output_type": "stream",
     "text": [
      "저금하자!\n"
     ]
    }
   ],
   "source": [
    "# 아무것도 하지 않게 설정\n",
    "if money <10:\n",
    "    pass\n",
    "else:\n",
    "    print('저금하자!')"
   ]
  },
  {
   "cell_type": "code",
   "execution_count": 66,
   "id": "e5a84b14",
   "metadata": {},
   "outputs": [
    {
     "name": "stdout",
     "output_type": "stream",
     "text": [
      "one!\n",
      "two!\n",
      "three!\n"
     ]
    }
   ],
   "source": [
    "# 반복문\n",
    "test_list = ['one','two','three']\n",
    "for i in test_list:\n",
    "    x = i +'!'\n",
    "    print(x)"
   ]
  },
  {
   "cell_type": "code",
   "execution_count": 70,
   "id": "901fc28a",
   "metadata": {},
   "outputs": [
    {
     "name": "stdout",
     "output_type": "stream",
     "text": [
      "1번 학생은 합격입니다\n",
      "2번 학생은 불합격입니다\n",
      "3번 학생은 합격입니다\n",
      "4번 학생은 불합격입니다\n",
      "5번 학생은 합격입니다\n"
     ]
    }
   ],
   "source": [
    "number = 0                                              # 1번부터 시작\n",
    "for score in [90,25,67,45,93]:                          # 범위가 [] 리스트 안에 있을 때\n",
    "    number +=1                                          # number에 1씩 더함을 반복하면서\n",
    "    if score >=60:                                      # 점수가 60 이상이면\n",
    "        print('%d번 학생은 합격입니다' %number)         # '합격'메세지와 함께 number를 붙힌다\n",
    "    else:                                               # 아니면\n",
    "        print('%d번 학생은 불합격입니다' %number)       # '불합격'메세지와 함께 number를 붙힌다"
   ]
  },
  {
   "cell_type": "code",
   "execution_count": 71,
   "id": "caa2ecb0",
   "metadata": {},
   "outputs": [
    {
     "name": "stdout",
     "output_type": "stream",
     "text": [
      "*\n",
      "**\n",
      "***\n",
      "****\n",
      "*****\n"
     ]
    }
   ],
   "source": [
    "# while문\n",
    "i = 0             # 1부터 시작\n",
    "while i <5:       # i가 5 미만일때까지\n",
    "    i += 1        # i에 1씩 더해서\n",
    "    print('*'*i)  # *과 곱하여 출력한다"
   ]
  },
  {
   "cell_type": "code",
   "execution_count": 75,
   "id": "c130dfb1",
   "metadata": {},
   "outputs": [],
   "source": [
    "# 함수 - 사용자 정의 함수\n",
    "def sum1(a,b):\n",
    "    x = a+b\n",
    "    return x\n",
    "\n",
    "def sum2(*args):\n",
    "    x = 0\n",
    "    for i in args:\n",
    "        x += i\n",
    "    return x"
   ]
  },
  {
   "cell_type": "code",
   "execution_count": 73,
   "id": "d6a5d4e9",
   "metadata": {},
   "outputs": [
    {
     "data": {
      "text/plain": [
       "8"
      ]
     },
     "execution_count": 73,
     "metadata": {},
     "output_type": "execute_result"
    }
   ],
   "source": [
    "a = 5\n",
    "b = 3\n",
    "sum1(a,b)"
   ]
  },
  {
   "cell_type": "code",
   "execution_count": 76,
   "id": "c33becd5",
   "metadata": {},
   "outputs": [
    {
     "data": {
      "text/plain": [
       "15"
      ]
     },
     "execution_count": 76,
     "metadata": {},
     "output_type": "execute_result"
    }
   ],
   "source": [
    "sum2(1,2,3,4,5)"
   ]
  },
  {
   "cell_type": "code",
   "execution_count": 80,
   "id": "b7c4ecbc",
   "metadata": {},
   "outputs": [
    {
     "name": "stdout",
     "output_type": "stream",
     "text": [
      "[1 2 3 4 5] <class 'numpy.ndarray'>\n"
     ]
    }
   ],
   "source": [
    "# 주요 라이브러리\n",
    "# numpy - 수치데이터 다루기(행렬연산)\n",
    "import numpy as np\n",
    "ar1 = np.array([1,2,3,4,5])   # 리스트로 numpy 생성\n",
    "print(ar1,type(ar1))"
   ]
  },
  {
   "cell_type": "code",
   "execution_count": 81,
   "id": "df6edc22",
   "metadata": {},
   "outputs": [
    {
     "data": {
      "text/plain": [
       "array([[10, 20, 30],\n",
       "       [40, 50, 60]])"
      ]
     },
     "execution_count": 81,
     "metadata": {},
     "output_type": "execute_result"
    }
   ],
   "source": [
    "ar2 = np.array([[10,20,30],[40,50,60]])\n",
    "ar2"
   ]
  },
  {
   "cell_type": "code",
   "execution_count": 85,
   "id": "adcd0fa4",
   "metadata": {},
   "outputs": [
    {
     "data": {
      "text/plain": [
       "array([1, 3, 5, 7, 9])"
      ]
     },
     "execution_count": 85,
     "metadata": {},
     "output_type": "execute_result"
    }
   ],
   "source": [
    "ar3 = np.arange(1, 11, 2)   # 값의 범위 지정\n",
    "ar3"
   ]
  },
  {
   "cell_type": "code",
   "execution_count": 87,
   "id": "d2882997",
   "metadata": {},
   "outputs": [
    {
     "data": {
      "text/plain": [
       "array([[1, 2],\n",
       "       [3, 4],\n",
       "       [5, 6]])"
      ]
     },
     "execution_count": 87,
     "metadata": {},
     "output_type": "execute_result"
    }
   ],
   "source": [
    "ar4 = np.array([1,2,3,4,5,6]).reshape((3,2))  # 구조를 재배치 (3행 2열)\n",
    "ar4    "
   ]
  },
  {
   "cell_type": "code",
   "execution_count": 88,
   "id": "f20fc135",
   "metadata": {},
   "outputs": [
    {
     "data": {
      "text/plain": [
       "array([[0., 0., 0.],\n",
       "       [0., 0., 0.]])"
      ]
     },
     "execution_count": 88,
     "metadata": {},
     "output_type": "execute_result"
    }
   ],
   "source": [
    "ar5 = np.zeros((2,3))  # 0으로 초기화하고 2행 3열 구조를 생성\n",
    "ar5"
   ]
  },
  {
   "cell_type": "code",
   "execution_count": 89,
   "id": "ad60ae0c",
   "metadata": {},
   "outputs": [
    {
     "data": {
      "text/plain": [
       "array([[10, 20],\n",
       "       [40, 50]])"
      ]
     },
     "execution_count": 89,
     "metadata": {},
     "output_type": "execute_result"
    }
   ],
   "source": [
    "# numpy 슬라이싱\n",
    "ar6 = ar2[0:2,0:2]\n",
    "ar6"
   ]
  },
  {
   "cell_type": "code",
   "execution_count": 90,
   "id": "e901752a",
   "metadata": {},
   "outputs": [
    {
     "data": {
      "text/plain": [
       "array([10, 20, 30])"
      ]
     },
     "execution_count": 90,
     "metadata": {},
     "output_type": "execute_result"
    }
   ],
   "source": [
    "ar7 = ar2[0,:]\n",
    "ar7"
   ]
  },
  {
   "cell_type": "code",
   "execution_count": 92,
   "id": "9654ef15",
   "metadata": {},
   "outputs": [
    {
     "data": {
      "text/plain": [
       "[10, 20, 30, 40, 50]"
      ]
     },
     "execution_count": 92,
     "metadata": {},
     "output_type": "execute_result"
    }
   ],
   "source": [
    "# pandas\n",
    "import pandas as pd\n",
    "data1 = [10,20,30,40,50]\n",
    "data1"
   ]
  },
  {
   "cell_type": "code",
   "execution_count": 93,
   "id": "e9484422",
   "metadata": {},
   "outputs": [
    {
     "data": {
      "text/plain": [
       "['1반', '2반', '3반', '4반', '5반']"
      ]
     },
     "execution_count": 93,
     "metadata": {},
     "output_type": "execute_result"
    }
   ],
   "source": [
    "data2 = ['1반','2반','3반','4반','5반']\n",
    "data2"
   ]
  },
  {
   "cell_type": "code",
   "execution_count": 95,
   "id": "82bf19c7",
   "metadata": {},
   "outputs": [
    {
     "data": {
      "text/plain": [
       "0    10\n",
       "1    20\n",
       "2    30\n",
       "3    40\n",
       "4    50\n",
       "dtype: int64"
      ]
     },
     "execution_count": 95,
     "metadata": {},
     "output_type": "execute_result"
    }
   ],
   "source": [
    "# series 생성 - 리스트를 원소로 생성하는 1차원 자료구조\n",
    "sr1 = pd.Series(data1)\n",
    "sr1"
   ]
  },
  {
   "cell_type": "code",
   "execution_count": 96,
   "id": "c4cc6fda",
   "metadata": {},
   "outputs": [
    {
     "data": {
      "text/plain": [
       "0    1반\n",
       "1    2반\n",
       "2    3반\n",
       "3    4반\n",
       "4    5반\n",
       "dtype: object"
      ]
     },
     "execution_count": 96,
     "metadata": {},
     "output_type": "execute_result"
    }
   ],
   "source": [
    "sr2 = pd.Series(data2)\n",
    "sr2"
   ]
  },
  {
   "cell_type": "code",
   "execution_count": 97,
   "id": "46556ff7",
   "metadata": {},
   "outputs": [
    {
     "data": {
      "text/plain": [
       "0    101\n",
       "1    102\n",
       "2    103\n",
       "3    104\n",
       "4    105\n",
       "dtype: int64"
      ]
     },
     "execution_count": 97,
     "metadata": {},
     "output_type": "execute_result"
    }
   ],
   "source": [
    "sr3 = pd.Series([101,102,103,104,105])\n",
    "sr3"
   ]
  },
  {
   "cell_type": "code",
   "execution_count": 98,
   "id": "0c6ef944",
   "metadata": {},
   "outputs": [
    {
     "data": {
      "text/plain": [
       "0    월\n",
       "1    화\n",
       "2    수\n",
       "3    목\n",
       "4    금\n",
       "dtype: object"
      ]
     },
     "execution_count": 98,
     "metadata": {},
     "output_type": "execute_result"
    }
   ],
   "source": [
    "sr4 = pd.Series(['월','화','수','목','금'])\n",
    "sr4"
   ]
  },
  {
   "cell_type": "code",
   "execution_count": 100,
   "id": "1fd926f8",
   "metadata": {},
   "outputs": [
    {
     "data": {
      "text/plain": [
       "1000    10\n",
       "1001    20\n",
       "1002    30\n",
       "1003    40\n",
       "1004    50\n",
       "dtype: int64"
      ]
     },
     "execution_count": 100,
     "metadata": {},
     "output_type": "execute_result"
    }
   ],
   "source": [
    "sr5 = pd.Series(data1, index = [1000, 1001, 1002, 1003, 1004])\n",
    "sr5"
   ]
  },
  {
   "cell_type": "code",
   "execution_count": 101,
   "id": "246663da",
   "metadata": {},
   "outputs": [
    {
     "data": {
      "text/plain": [
       "1반    10\n",
       "2반    20\n",
       "3반    30\n",
       "4반    40\n",
       "5반    50\n",
       "dtype: int64"
      ]
     },
     "execution_count": 101,
     "metadata": {},
     "output_type": "execute_result"
    }
   ],
   "source": [
    "sr6 = pd.Series(data1, index = data2)\n",
    "sr6"
   ]
  },
  {
   "cell_type": "code",
   "execution_count": 102,
   "id": "ba2f72f7",
   "metadata": {},
   "outputs": [
    {
     "data": {
      "text/plain": [
       "10    1반\n",
       "20    2반\n",
       "30    3반\n",
       "40    4반\n",
       "50    5반\n",
       "dtype: object"
      ]
     },
     "execution_count": 102,
     "metadata": {},
     "output_type": "execute_result"
    }
   ],
   "source": [
    "sr7 = pd.Series(data2, index = data1)\n",
    "sr7"
   ]
  },
  {
   "cell_type": "code",
   "execution_count": 103,
   "id": "5d5ad259",
   "metadata": {},
   "outputs": [
    {
     "data": {
      "text/plain": [
       "월    1반\n",
       "화    2반\n",
       "수    3반\n",
       "목    4반\n",
       "금    5반\n",
       "dtype: object"
      ]
     },
     "execution_count": 103,
     "metadata": {},
     "output_type": "execute_result"
    }
   ],
   "source": [
    "sr8 = pd.Series(data2, index=sr4)\n",
    "sr8"
   ]
  },
  {
   "cell_type": "code",
   "execution_count": 104,
   "id": "b8f0f86c",
   "metadata": {},
   "outputs": [
    {
     "data": {
      "text/plain": [
       "'3반'"
      ]
     },
     "execution_count": 104,
     "metadata": {},
     "output_type": "execute_result"
    }
   ],
   "source": [
    "sr8[2]"
   ]
  },
  {
   "cell_type": "code",
   "execution_count": 105,
   "id": "8f7b9fe8",
   "metadata": {},
   "outputs": [
    {
     "data": {
      "text/plain": [
       "월    1반\n",
       "화    2반\n",
       "수    3반\n",
       "목    4반\n",
       "dtype: object"
      ]
     },
     "execution_count": 105,
     "metadata": {},
     "output_type": "execute_result"
    }
   ],
   "source": [
    "sr8[0:4]"
   ]
  },
  {
   "cell_type": "code",
   "execution_count": 106,
   "id": "cd89e498",
   "metadata": {},
   "outputs": [
    {
     "data": {
      "text/plain": [
       "Index(['월', '화', '수', '목', '금'], dtype='object')"
      ]
     },
     "execution_count": 106,
     "metadata": {},
     "output_type": "execute_result"
    }
   ],
   "source": [
    "sr8.index  # Series 인덱스"
   ]
  },
  {
   "cell_type": "code",
   "execution_count": 107,
   "id": "f0833d20",
   "metadata": {},
   "outputs": [
    {
     "data": {
      "text/plain": [
       "array(['1반', '2반', '3반', '4반', '5반'], dtype=object)"
      ]
     },
     "execution_count": 107,
     "metadata": {},
     "output_type": "execute_result"
    }
   ],
   "source": [
    "sr8.values # Series 값"
   ]
  },
  {
   "cell_type": "code",
   "execution_count": 108,
   "id": "71e33f80",
   "metadata": {},
   "outputs": [
    {
     "data": {
      "text/plain": [
       "{'year': [2018, 2019, 2020], 'sales': [350, 480, 1099]}"
      ]
     },
     "execution_count": 108,
     "metadata": {},
     "output_type": "execute_result"
    }
   ],
   "source": [
    "# DataFrame 자료형\n",
    "data_dic = {\n",
    "    'year':[2018,2019,2020],\n",
    "    'sales':[350,480,1099]\n",
    "}\n",
    "data_dic"
   ]
  },
  {
   "cell_type": "code",
   "execution_count": 109,
   "id": "f20dd3e1",
   "metadata": {},
   "outputs": [
    {
     "data": {
      "text/html": [
       "<div>\n",
       "<style scoped>\n",
       "    .dataframe tbody tr th:only-of-type {\n",
       "        vertical-align: middle;\n",
       "    }\n",
       "\n",
       "    .dataframe tbody tr th {\n",
       "        vertical-align: top;\n",
       "    }\n",
       "\n",
       "    .dataframe thead th {\n",
       "        text-align: right;\n",
       "    }\n",
       "</style>\n",
       "<table border=\"1\" class=\"dataframe\">\n",
       "  <thead>\n",
       "    <tr style=\"text-align: right;\">\n",
       "      <th></th>\n",
       "      <th>year</th>\n",
       "      <th>sales</th>\n",
       "    </tr>\n",
       "  </thead>\n",
       "  <tbody>\n",
       "    <tr>\n",
       "      <th>0</th>\n",
       "      <td>2018</td>\n",
       "      <td>350</td>\n",
       "    </tr>\n",
       "    <tr>\n",
       "      <th>1</th>\n",
       "      <td>2019</td>\n",
       "      <td>480</td>\n",
       "    </tr>\n",
       "    <tr>\n",
       "      <th>2</th>\n",
       "      <td>2020</td>\n",
       "      <td>1099</td>\n",
       "    </tr>\n",
       "  </tbody>\n",
       "</table>\n",
       "</div>"
      ],
      "text/plain": [
       "   year  sales\n",
       "0  2018    350\n",
       "1  2019    480\n",
       "2  2020   1099"
      ]
     },
     "execution_count": 109,
     "metadata": {},
     "output_type": "execute_result"
    }
   ],
   "source": [
    "df1 = pd.DataFrame(data_dic)\n",
    "df1"
   ]
  },
  {
   "cell_type": "code",
   "execution_count": 111,
   "id": "f1627324",
   "metadata": {},
   "outputs": [
    {
     "data": {
      "text/html": [
       "<div>\n",
       "<style scoped>\n",
       "    .dataframe tbody tr th:only-of-type {\n",
       "        vertical-align: middle;\n",
       "    }\n",
       "\n",
       "    .dataframe tbody tr th {\n",
       "        vertical-align: top;\n",
       "    }\n",
       "\n",
       "    .dataframe thead th {\n",
       "        text-align: right;\n",
       "    }\n",
       "</style>\n",
       "<table border=\"1\" class=\"dataframe\">\n",
       "  <thead>\n",
       "    <tr style=\"text-align: right;\">\n",
       "      <th></th>\n",
       "      <th>1반</th>\n",
       "      <th>2반</th>\n",
       "      <th>3반</th>\n",
       "    </tr>\n",
       "  </thead>\n",
       "  <tbody>\n",
       "    <tr>\n",
       "      <th>중간고사</th>\n",
       "      <td>89.2</td>\n",
       "      <td>92.5</td>\n",
       "      <td>90.8</td>\n",
       "    </tr>\n",
       "    <tr>\n",
       "      <th>기말고사</th>\n",
       "      <td>92.8</td>\n",
       "      <td>89.9</td>\n",
       "      <td>95.2</td>\n",
       "    </tr>\n",
       "  </tbody>\n",
       "</table>\n",
       "</div>"
      ],
      "text/plain": [
       "        1반    2반    3반\n",
       "중간고사  89.2  92.5  90.8\n",
       "기말고사  92.8  89.9  95.2"
      ]
     },
     "execution_count": 111,
     "metadata": {},
     "output_type": "execute_result"
    }
   ],
   "source": [
    "df2 = pd.DataFrame([[89.2,92.5,90.8],[92.8,89.9,95.2]], index = ['중간고사','기말고사'], columns=data2[0:3])\n",
    "df2"
   ]
  },
  {
   "cell_type": "code",
   "execution_count": 114,
   "id": "fc88735f",
   "metadata": {},
   "outputs": [
    {
     "data": {
      "text/html": [
       "<div>\n",
       "<style scoped>\n",
       "    .dataframe tbody tr th:only-of-type {\n",
       "        vertical-align: middle;\n",
       "    }\n",
       "\n",
       "    .dataframe tbody tr th {\n",
       "        vertical-align: top;\n",
       "    }\n",
       "\n",
       "    .dataframe thead th {\n",
       "        text-align: right;\n",
       "    }\n",
       "</style>\n",
       "<table border=\"1\" class=\"dataframe\">\n",
       "  <thead>\n",
       "    <tr style=\"text-align: right;\">\n",
       "      <th></th>\n",
       "      <th>0</th>\n",
       "      <th>1</th>\n",
       "      <th>2</th>\n",
       "      <th>3</th>\n",
       "    </tr>\n",
       "  </thead>\n",
       "  <tbody>\n",
       "    <tr>\n",
       "      <th>0</th>\n",
       "      <td>20201101</td>\n",
       "      <td>Hong</td>\n",
       "      <td>90</td>\n",
       "      <td>95</td>\n",
       "    </tr>\n",
       "    <tr>\n",
       "      <th>1</th>\n",
       "      <td>20201102</td>\n",
       "      <td>Kim</td>\n",
       "      <td>93</td>\n",
       "      <td>94</td>\n",
       "    </tr>\n",
       "    <tr>\n",
       "      <th>2</th>\n",
       "      <td>20201103</td>\n",
       "      <td>Lee</td>\n",
       "      <td>87</td>\n",
       "      <td>97</td>\n",
       "    </tr>\n",
       "  </tbody>\n",
       "</table>\n",
       "</div>"
      ],
      "text/plain": [
       "          0     1   2   3\n",
       "0  20201101  Hong  90  95\n",
       "1  20201102   Kim  93  94\n",
       "2  20201103   Lee  87  97"
      ]
     },
     "execution_count": 114,
     "metadata": {},
     "output_type": "execute_result"
    }
   ],
   "source": [
    "data_df = [['20201101','Hong','90','95'],['20201102','Kim','93','94'],['20201103','Lee','87','97']]\n",
    "df3 = pd.DataFrame(data_df)\n",
    "df3"
   ]
  },
  {
   "cell_type": "code",
   "execution_count": 115,
   "id": "913d70ad",
   "metadata": {},
   "outputs": [
    {
     "data": {
      "text/html": [
       "<div>\n",
       "<style scoped>\n",
       "    .dataframe tbody tr th:only-of-type {\n",
       "        vertical-align: middle;\n",
       "    }\n",
       "\n",
       "    .dataframe tbody tr th {\n",
       "        vertical-align: top;\n",
       "    }\n",
       "\n",
       "    .dataframe thead th {\n",
       "        text-align: right;\n",
       "    }\n",
       "</style>\n",
       "<table border=\"1\" class=\"dataframe\">\n",
       "  <thead>\n",
       "    <tr style=\"text-align: right;\">\n",
       "      <th></th>\n",
       "      <th>학번</th>\n",
       "      <th>이름</th>\n",
       "      <th>중간고사</th>\n",
       "      <th>기말고사</th>\n",
       "    </tr>\n",
       "  </thead>\n",
       "  <tbody>\n",
       "    <tr>\n",
       "      <th>0</th>\n",
       "      <td>20201101</td>\n",
       "      <td>Hong</td>\n",
       "      <td>90</td>\n",
       "      <td>95</td>\n",
       "    </tr>\n",
       "    <tr>\n",
       "      <th>1</th>\n",
       "      <td>20201102</td>\n",
       "      <td>Kim</td>\n",
       "      <td>93</td>\n",
       "      <td>94</td>\n",
       "    </tr>\n",
       "    <tr>\n",
       "      <th>2</th>\n",
       "      <td>20201103</td>\n",
       "      <td>Lee</td>\n",
       "      <td>87</td>\n",
       "      <td>97</td>\n",
       "    </tr>\n",
       "  </tbody>\n",
       "</table>\n",
       "</div>"
      ],
      "text/plain": [
       "         학번    이름 중간고사 기말고사\n",
       "0  20201101  Hong   90   95\n",
       "1  20201102   Kim   93   94\n",
       "2  20201103   Lee   87   97"
      ]
     },
     "execution_count": 115,
     "metadata": {},
     "output_type": "execute_result"
    }
   ],
   "source": [
    "# DataFrame 열 이름 설정\n",
    "df3.columns = ['학번','이름','중간고사','기말고사']\n",
    "df3"
   ]
  },
  {
   "cell_type": "code",
   "execution_count": 117,
   "id": "88da3e77",
   "metadata": {},
   "outputs": [],
   "source": [
    "# csv 파일로 저장\n",
    "df3.to_csv('C:/Users/CPB06GameN/내주피터노트파일들/score.csv', header='False')"
   ]
  },
  {
   "cell_type": "code",
   "execution_count": 120,
   "id": "604fd35a",
   "metadata": {},
   "outputs": [],
   "source": [
    "# matplotlib\n",
    "import matplotlib\n",
    "import matplotlib.pyplot as plt"
   ]
  },
  {
   "cell_type": "code",
   "execution_count": 124,
   "id": "043120c0",
   "metadata": {},
   "outputs": [
    {
     "data": {
      "image/png": "[encoded data removed]",
      "text/plain": [
       "<Figure size 432x288 with 1 Axes>"
      ]
     },
     "metadata": {
      "needs_background": "light"
     },
     "output_type": "display_data"
    }
   ],
   "source": [
    "# 라인플롯\n",
    "x = [2016,2017,2018,2019,2020]\n",
    "y = [350,410,520,695,543]\n",
    "plt.plot(x,y)\n",
    "# 차트 제목 설정\n",
    "plt.title('Annual sales')\n",
    "# x축레이블 설정\n",
    "plt.xlabel('years')\n",
    "# y축 레이블 설정\n",
    "plt.ylabel('sales')\n",
    "plt.show()"
   ]
  },
  {
   "cell_type": "code",
   "execution_count": 127,
   "id": "d3a45db8",
   "metadata": {},
   "outputs": [
    {
     "data": {
      "image/png": "[encoded data removed]",
      "text/plain": [
       "<Figure size 432x288 with 1 Axes>"
      ]
     },
     "metadata": {
      "needs_background": "light"
     },
     "output_type": "display_data"
    }
   ],
   "source": [
    "# 바 플롯\n",
    "y1 = [350,410,520,695]\n",
    "y2 = [200,250,385,350]\n",
    "x = range(len(y1))\n",
    "plt.bar(x,y1, width=0.7, color='blue')\n",
    "plt.bar(x,y2, width=0.7, color='red', bottom=y1)\n",
    "plt.title('Quarterly sales')\n",
    "plt.xlabel('Quarters')\n",
    "plt.ylabel('sales')\n",
    "xLabel = ['first','second','third','fourth']\n",
    "plt.legend(['chairs','desks'])\n",
    "plt.show()"
   ]
  },
  {
   "cell_type": "code",
   "execution_count": 129,
   "id": "b8123b80",
   "metadata": {},
   "outputs": [
    {
     "data": {
      "text/plain": [
       "'2020'"
      ]
     },
     "execution_count": 129,
     "metadata": {},
     "output_type": "execute_result"
    }
   ],
   "source": [
    "# 연습문제 p.122\n",
    "# 1.\n",
    "str='20201231Thursday'\n",
    "year=str[0:4]\n",
    "year"
   ]
  },
  {
   "cell_type": "code",
   "execution_count": 130,
   "id": "c52a3539",
   "metadata": {},
   "outputs": [
    {
     "data": {
      "text/plain": [
       "'1231'"
      ]
     },
     "execution_count": 130,
     "metadata": {},
     "output_type": "execute_result"
    }
   ],
   "source": [
    "mmdd = str[4:8]\n",
    "mmdd"
   ]
  },
  {
   "cell_type": "code",
   "execution_count": 131,
   "id": "47c49a98",
   "metadata": {},
   "outputs": [
    {
     "data": {
      "text/plain": [
       "'Thursday'"
      ]
     },
     "execution_count": 131,
     "metadata": {},
     "output_type": "execute_result"
    }
   ],
   "source": [
    "day = str[8:]\n",
    "day"
   ]
  },
  {
   "cell_type": "code",
   "execution_count": 132,
   "id": "15df91a6",
   "metadata": {},
   "outputs": [
    {
     "data": {
      "text/plain": [
       "['통', '기', '레', '쓰']"
      ]
     },
     "execution_count": 132,
     "metadata": {},
     "output_type": "execute_result"
    }
   ],
   "source": [
    "# 2\n",
    "a = ['쓰','레','기','통']\n",
    "a.reverse()\n",
    "a"
   ]
  },
  {
   "cell_type": "code",
   "execution_count": 134,
   "id": "be4110fe",
   "metadata": {},
   "outputs": [
    {
     "data": {
      "text/plain": [
       "dict_keys(['year', 'mm', 'dd', 'day', 'weather'])"
      ]
     },
     "execution_count": 134,
     "metadata": {},
     "output_type": "execute_result"
    }
   ],
   "source": [
    "# 3.\n",
    "dic = {'year':2020,'mm':12,'dd':31,'day':'Thursday','weather':'snow'}\n",
    "dic.keys()"
   ]
  },
  {
   "cell_type": "code",
   "execution_count": 135,
   "id": "2513dcd5",
   "metadata": {},
   "outputs": [
    {
     "data": {
      "text/plain": [
       "dict_values([2020, 12, 31, 'Thursday', 'snow'])"
      ]
     },
     "execution_count": 135,
     "metadata": {},
     "output_type": "execute_result"
    }
   ],
   "source": [
    "dic.values()"
   ]
  },
  {
   "cell_type": "code",
   "execution_count": 153,
   "id": "5f5c5e42",
   "metadata": {},
   "outputs": [
    {
     "name": "stdout",
     "output_type": "stream",
     "text": [
      "*\n",
      "**\n",
      "***\n",
      "****\n",
      "*****\n"
     ]
    }
   ],
   "source": [
    "# 5.\n",
    "number=0\n",
    "for i in range(0,5):\n",
    "    i += number+1\n",
    "    print('*'*i)"
   ]
  },
  {
   "cell_type": "code",
   "execution_count": 182,
   "id": "7c3a903f",
   "metadata": {},
   "outputs": [
    {
     "data": {
      "text/html": [
       "<div>\n",
       "<style scoped>\n",
       "    .dataframe tbody tr th:only-of-type {\n",
       "        vertical-align: middle;\n",
       "    }\n",
       "\n",
       "    .dataframe tbody tr th {\n",
       "        vertical-align: top;\n",
       "    }\n",
       "\n",
       "    .dataframe thead th {\n",
       "        text-align: right;\n",
       "    }\n",
       "</style>\n",
       "<table border=\"1\" class=\"dataframe\">\n",
       "  <thead>\n",
       "    <tr style=\"text-align: right;\">\n",
       "      <th></th>\n",
       "      <th>1분기</th>\n",
       "      <th>2분기</th>\n",
       "      <th>3분기</th>\n",
       "      <th>4분기</th>\n",
       "    </tr>\n",
       "  </thead>\n",
       "  <tbody>\n",
       "    <tr>\n",
       "      <th>2015</th>\n",
       "      <td>500</td>\n",
       "      <td>450</td>\n",
       "      <td>520</td>\n",
       "      <td>610</td>\n",
       "    </tr>\n",
       "    <tr>\n",
       "      <th>2016</th>\n",
       "      <td>690</td>\n",
       "      <td>700</td>\n",
       "      <td>820</td>\n",
       "      <td>900</td>\n",
       "    </tr>\n",
       "    <tr>\n",
       "      <th>2017</th>\n",
       "      <td>1100</td>\n",
       "      <td>1030</td>\n",
       "      <td>1200</td>\n",
       "      <td>1380</td>\n",
       "    </tr>\n",
       "    <tr>\n",
       "      <th>2018</th>\n",
       "      <td>1500</td>\n",
       "      <td>1650</td>\n",
       "      <td>1700</td>\n",
       "      <td>1850</td>\n",
       "    </tr>\n",
       "    <tr>\n",
       "      <th>2019</th>\n",
       "      <td>1990</td>\n",
       "      <td>2020</td>\n",
       "      <td>2300</td>\n",
       "      <td>2420</td>\n",
       "    </tr>\n",
       "    <tr>\n",
       "      <th>2020</th>\n",
       "      <td>1020</td>\n",
       "      <td>1600</td>\n",
       "      <td>2200</td>\n",
       "      <td>2550</td>\n",
       "    </tr>\n",
       "  </tbody>\n",
       "</table>\n",
       "</div>"
      ],
      "text/plain": [
       "       1분기   2분기   3분기   4분기\n",
       "2015   500   450   520   610\n",
       "2016   690   700   820   900\n",
       "2017  1100  1030  1200  1380\n",
       "2018  1500  1650  1700  1850\n",
       "2019  1990  2020  2300  2420\n",
       "2020  1020  1600  2200  2550"
      ]
     },
     "execution_count": 182,
     "metadata": {},
     "output_type": "execute_result"
    }
   ],
   "source": [
    "# 7.\n",
    "import pandas as pd\n",
    "x = [[500,450,520,610],[690,700,820,900],[1100,1030,1200,1380],\n",
    "                  [1500,1650,1700,1850],[1990,2020,2300,2420],[1020,1600,2200,2550]]\n",
    "y = [2015,2016,2017,2018,2019,2020]\n",
    "df = pd.DataFrame(x, y, columns = ['1분기','2분기','3분기','4분기'])\n",
    "df"
   ]
  },
  {
   "cell_type": "code",
   "execution_count": 183,
   "id": "f7540dc0",
   "metadata": {},
   "outputs": [
    {
     "data": {
      "text/html": [
       "<div>\n",
       "<style scoped>\n",
       "    .dataframe tbody tr th:only-of-type {\n",
       "        vertical-align: middle;\n",
       "    }\n",
       "\n",
       "    .dataframe tbody tr th {\n",
       "        vertical-align: top;\n",
       "    }\n",
       "\n",
       "    .dataframe thead th {\n",
       "        text-align: right;\n",
       "    }\n",
       "</style>\n",
       "<table border=\"1\" class=\"dataframe\">\n",
       "  <thead>\n",
       "    <tr style=\"text-align: right;\">\n",
       "      <th></th>\n",
       "      <th>1분기</th>\n",
       "      <th>2분기</th>\n",
       "      <th>3분기</th>\n",
       "      <th>4분기</th>\n",
       "    </tr>\n",
       "  </thead>\n",
       "  <tbody>\n",
       "    <tr>\n",
       "      <th>2015</th>\n",
       "      <td>500</td>\n",
       "      <td>450</td>\n",
       "      <td>520</td>\n",
       "      <td>610</td>\n",
       "    </tr>\n",
       "    <tr>\n",
       "      <th>2016</th>\n",
       "      <td>690</td>\n",
       "      <td>700</td>\n",
       "      <td>820</td>\n",
       "      <td>900</td>\n",
       "    </tr>\n",
       "    <tr>\n",
       "      <th>2017</th>\n",
       "      <td>1100</td>\n",
       "      <td>1030</td>\n",
       "      <td>1200</td>\n",
       "      <td>1380</td>\n",
       "    </tr>\n",
       "    <tr>\n",
       "      <th>2018</th>\n",
       "      <td>1500</td>\n",
       "      <td>1650</td>\n",
       "      <td>1700</td>\n",
       "      <td>1850</td>\n",
       "    </tr>\n",
       "    <tr>\n",
       "      <th>2019</th>\n",
       "      <td>1990</td>\n",
       "      <td>2020</td>\n",
       "      <td>2300</td>\n",
       "      <td>2420</td>\n",
       "    </tr>\n",
       "    <tr>\n",
       "      <th>2020</th>\n",
       "      <td>1020</td>\n",
       "      <td>1600</td>\n",
       "      <td>2200</td>\n",
       "      <td>2550</td>\n",
       "    </tr>\n",
       "  </tbody>\n",
       "</table>\n",
       "</div>"
      ],
      "text/plain": [
       "       1분기   2분기   3분기   4분기\n",
       "2015   500   450   520   610\n",
       "2016   690   700   820   900\n",
       "2017  1100  1030  1200  1380\n",
       "2018  1500  1650  1700  1850\n",
       "2019  1990  2020  2300  2420\n",
       "2020  1020  1600  2200  2550"
      ]
     },
     "execution_count": 183,
     "metadata": {},
     "output_type": "execute_result"
    }
   ],
   "source": [
    "df.to_csv('C:/Users/CPB06GameN/내주피터노트파일들/ex4_7.csv', header='False', encoding='utf-8')\n",
    "df"
   ]
  }
 ],
 "metadata": {
  "kernelspec": {
   "display_name": "Python 3",
   "language": "python",
   "name": "python3"
  },
  "language_info": {
   "codemirror_mode": {
    "name": "ipython",
    "version": 3
   },
   "file_extension": ".py",
   "mimetype": "text/x-python",
   "name": "python",
   "nbconvert_exporter": "python",
   "pygments_lexer": "ipython3",
   "version": "3.8.8"
  }
 },
 "nbformat": 4,
 "nbformat_minor": 5
}
