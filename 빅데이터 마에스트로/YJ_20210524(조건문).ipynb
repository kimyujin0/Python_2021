{
 "cells": [
  {
   "cell_type": "code",
   "execution_count": 2,
   "id": "84964b5f",
   "metadata": {},
   "outputs": [
    {
     "data": {
      "text/plain": [
       "True"
      ]
     },
     "execution_count": 2,
     "metadata": {},
     "output_type": "execute_result"
    }
   ],
   "source": [
    "1 in [1,2,3]    # in 포함"
   ]
  },
  {
   "cell_type": "code",
   "execution_count": 3,
   "id": "bb4b51ed",
   "metadata": {},
   "outputs": [
    {
     "data": {
      "text/plain": [
       "True"
      ]
     },
     "execution_count": 3,
     "metadata": {},
     "output_type": "execute_result"
    }
   ],
   "source": [
    "4 not in [1,2,3]   # not in 안포함"
   ]
  },
  {
   "cell_type": "code",
   "execution_count": 4,
   "id": "387b5af1",
   "metadata": {},
   "outputs": [],
   "source": [
    "a=1\n",
    "if a == 1:      # 조건문 후 항상 콜론(:)\n",
    "    pass        # 아무런 일도 하지 않도록 설정, 그냥 넘어감"
   ]
  },
  {
   "cell_type": "code",
   "execution_count": 5,
   "id": "f7749cf4",
   "metadata": {},
   "outputs": [
    {
     "name": "stdout",
     "output_type": "stream",
     "text": [
      "a는 1\n"
     ]
    }
   ],
   "source": [
    "# 한 줄 작성하기 & 여러가지 조건\n",
    "a=1\n",
    "if a == 1: print(\"a는 1\")  # 독립적이지 않고 한줄에 콜론으로 인해 허용"
   ]
  },
  {
   "cell_type": "code",
   "execution_count": 6,
   "id": "546c9e38",
   "metadata": {},
   "outputs": [
    {
     "name": "stdout",
     "output_type": "stream",
     "text": [
      "good bye\n"
     ]
    }
   ],
   "source": [
    "a=0\n",
    "if a == 1: print(\"a는 1\") \n",
    "print(\"good bye\")"
   ]
  },
  {
   "cell_type": "code",
   "execution_count": 7,
   "id": "bd9ed1e0",
   "metadata": {},
   "outputs": [
    {
     "name": "stdout",
     "output_type": "stream",
     "text": [
      "나무를 1번 찍었습니다.\n",
      "나무를 2번 찍었습니다.\n",
      "나무를 3번 찍었습니다.\n",
      "나무를 4번 찍었습니다.\n",
      "나무를 5번 찍었습니다.\n",
      "나무를 6번 찍었습니다.\n",
      "나무를 7번 찍었습니다.\n",
      "나무를 8번 찍었습니다.\n",
      "나무를 9번 찍었습니다.\n",
      "나무를 10번 찍었습니다.\n",
      "나무 넘어갑니다.\n"
     ]
    }
   ],
   "source": [
    "# while 반복문\n",
    "treeHit = 1\n",
    "while treeHit <= 10:\n",
    "    print(\"나무를 \"+str(treeHit)+\"번 찍었습니다.\")\n",
    "    if treeHit == 10: print(\"나무 넘어갑니다.\")    # 한 줄로 if문\n",
    "    treeHit += 1                                   # treeHit + 1 와 같음"
   ]
  },
  {
   "cell_type": "code",
   "execution_count": 8,
   "id": "7949ee18",
   "metadata": {},
   "outputs": [
    {
     "name": "stdout",
     "output_type": "stream",
     "text": [
      "정수를 입력하세요5\n",
      "5\n"
     ]
    }
   ],
   "source": [
    "# 입출력\n",
    "a = input(\"정수를 입력하세요\")   # 안내 메시지 출력\n",
    "print(a)"
   ]
  },
  {
   "cell_type": "code",
   "execution_count": 9,
   "id": "9b0757d1",
   "metadata": {},
   "outputs": [
    {
     "name": "stdout",
     "output_type": "stream",
     "text": [
      "정수를 입력하세요5\n",
      "6\n"
     ]
    }
   ],
   "source": [
    "a = input(\"정수를 입력하세요\")\n",
    "a = int(a) + 1     # 어떤 수를 숫자로 인식한다 - int(), 문자는 str()\n",
    "print(a)"
   ]
  },
  {
   "cell_type": "code",
   "execution_count": 10,
   "id": "39feb21a",
   "metadata": {},
   "outputs": [
    {
     "name": "stdout",
     "output_type": "stream",
     "text": [
      "온도를 입력하세요.5\n",
      "온도를 입력하세요.5\n",
      "온도를 입력하세요.5\n",
      "온도를 입력하세요.5\n",
      "[5, 5, 5, 5]\n"
     ]
    }
   ],
   "source": [
    "# list에 반복문 적용하기\n",
    "list_a = []  # 빈 리스트\n",
    "count = 0\n",
    "while count < 4:\n",
    "    recieved = input(\"온도를 입력하세요.\")\n",
    "    recieved = int(recieved)\n",
    "    list_a.append(recieved)\n",
    "    count += 1\n",
    "print(list_a)"
   ]
  },
  {
   "cell_type": "code",
   "execution_count": 11,
   "id": "0737f4c5",
   "metadata": {},
   "outputs": [
    {
     "name": "stdout",
     "output_type": "stream",
     "text": [
      "온도를 입력하세요 단, 입력을 멈추려면 -500을 입력하세요\n",
      "온도를 입력하세요.5\n",
      "온도를 입력하세요.5\n",
      "온도를 입력하세요.5\n",
      "온도를 입력하세요.5\n",
      "온도를 입력하세요.5\n",
      "온도를 입력하세요.5\n",
      "온도를 입력하세요.5\n",
      "온도를 입력하세요.-500\n",
      "[5, 5, 5, 5, 5, 5, 5]\n"
     ]
    }
   ],
   "source": [
    "# 반복문에 break 적용하기\n",
    "list_a = []\n",
    "count = 1\n",
    "print(\"온도를 입력하세요 단, 입력을 멈추려면 -500을 입력하세요\")\n",
    "while True:                                # 무한 루프\n",
    "    recieved = input(\"온도를 입력하세요.\")\n",
    "    if recieved == \"-500\": break           # -500만 하면 문자열로 읽기 때문에 \"-500\"으로 써주어야 함!\n",
    "    recieved = int(recieved)\n",
    "    list_a.append(recieved)\n",
    "    count += 1                             # 조건에 맞으면 1개씩 추가하여 센다는 의미\n",
    "print(list_a)"
   ]
  },
  {
   "cell_type": "code",
   "execution_count": 12,
   "id": "44f5f857",
   "metadata": {},
   "outputs": [
    {
     "name": "stdout",
     "output_type": "stream",
     "text": [
      "온도를 입력하세요-500\n",
      "[]\n"
     ]
    }
   ],
   "source": [
    "list_a = []\n",
    "while True:\n",
    "    recieved = input(\"온도를 입력하세요\")\n",
    "    recieved = int(recieved)\n",
    "    if recieved == -500:break\n",
    "    if recieved > 50 or recieved < -40: continue\n",
    "    list_a.append(recieved)\n",
    "print(list_a)"
   ]
  },
  {
   "cell_type": "code",
   "execution_count": 13,
   "id": "ca4022fd",
   "metadata": {},
   "outputs": [
    {
     "name": "stdout",
     "output_type": "stream",
     "text": [
      "range(0, 10)\n"
     ]
    }
   ],
   "source": [
    "a = range(10)\n",
    "print(a)"
   ]
  },
  {
   "cell_type": "code",
   "execution_count": 14,
   "id": "79375ba4",
   "metadata": {},
   "outputs": [
    {
     "name": "stdout",
     "output_type": "stream",
     "text": [
      "0 1 2 3 4 5 6 7 8 9 "
     ]
    }
   ],
   "source": [
    "for i in range(10):\n",
    "    print(i, end=\" \")   # end는 defult로 \\n으로 설정되어있어서 옆으로 나열하기 위해 \" \""
   ]
  },
  {
   "cell_type": "code",
   "execution_count": 15,
   "id": "129d440c",
   "metadata": {},
   "outputs": [
    {
     "name": "stdout",
     "output_type": "stream",
     "text": [
      "5 6 7 8 9 "
     ]
    }
   ],
   "source": [
    "for i in range(5,10):\n",
    "    print(i, end=\" \")"
   ]
  },
  {
   "cell_type": "code",
   "execution_count": 16,
   "id": "d4f581b3",
   "metadata": {},
   "outputs": [
    {
     "name": "stdout",
     "output_type": "stream",
     "text": [
      "1 3 5 7 9 "
     ]
    }
   ],
   "source": [
    "for i in range(1, 11, 2):      # 마지막 ( , , 이것)간격\n",
    "    print(i, end=\" \")"
   ]
  },
  {
   "cell_type": "code",
   "execution_count": 17,
   "id": "3ed693b8",
   "metadata": {},
   "outputs": [
    {
     "name": "stdout",
     "output_type": "stream",
     "text": [
      "10 9 8 7 6 5 4 3 2 1 "
     ]
    }
   ],
   "source": [
    "for i in range(10, 0, -1):     # -1 간격이니까 10부터 0까지 1씩 줄어든다 = countdown\n",
    "    print(i, end=\" \")   "
   ]
  },
  {
   "cell_type": "code",
   "execution_count": 18,
   "id": "7307da5c",
   "metadata": {},
   "outputs": [
    {
     "name": "stdout",
     "output_type": "stream",
     "text": [
      "1 4 7 10 "
     ]
    }
   ],
   "source": [
    "for i in [1,4,7,10]:\n",
    "    print(i, end=\" \") "
   ]
  },
  {
   "cell_type": "code",
   "execution_count": 19,
   "id": "db391d32",
   "metadata": {},
   "outputs": [
    {
     "name": "stdout",
     "output_type": "stream",
     "text": [
      "1 4 7 10 "
     ]
    }
   ],
   "source": [
    "a = [1,4,7,10]\n",
    "for i in a:\n",
    "    print(i, end=\" \")"
   ]
  },
  {
   "cell_type": "code",
   "execution_count": 20,
   "id": "27e604b1",
   "metadata": {},
   "outputs": [
    {
     "name": "stdout",
     "output_type": "stream",
     "text": [
      "[3, 6, 9, 12] "
     ]
    }
   ],
   "source": [
    "a = [1,2,3,4]\n",
    "res = []\n",
    "for num in a:\n",
    "    res.append(num*3)     # 원소를 하나씩 곱해줌(평이한 방식)\n",
    "print(res, end=\" \")"
   ]
  },
  {
   "cell_type": "code",
   "execution_count": 21,
   "id": "07d16f7c",
   "metadata": {},
   "outputs": [
    {
     "name": "stdout",
     "output_type": "stream",
     "text": [
      "[3, 6, 9, 12] "
     ]
    }
   ],
   "source": [
    "a = [1,2,3,4]\n",
    "res = [num*3 for num in a]\n",
    "print(res, end = ' ')    "
   ]
  },
  {
   "cell_type": "code",
   "execution_count": 22,
   "id": "82587f0c",
   "metadata": {},
   "outputs": [
    {
     "name": "stdout",
     "output_type": "stream",
     "text": [
      "[6, 12] "
     ]
    }
   ],
   "source": [
    "a = [1,2,3,4]\n",
    "res = [num*3 for num in a if num %2 ==0]  # 짝수\n",
    "print(res, end = ' ') "
   ]
  },
  {
   "cell_type": "code",
   "execution_count": 23,
   "id": "48adfc53",
   "metadata": {},
   "outputs": [
    {
     "name": "stdout",
     "output_type": "stream",
     "text": [
      "[6, 12] "
     ]
    }
   ],
   "source": [
    "a = [1,2,3,4]\n",
    "res = []\n",
    "for num in a:\n",
    "    if num %2 == 0:           # if while for 끝에 꼭 :(콜론)!\n",
    "        res.append(num*3)     # 들여쓰기 주의\n",
    "print(res, end = \" \")"
   ]
  },
  {
   "cell_type": "code",
   "execution_count": 108,
   "id": "f4908e63",
   "metadata": {},
   "outputs": [],
   "source": [
    "# 연습문제 Q3\n",
    "while True:\n",
    "    i+=1\n",
    "    if i>5: break\n",
    "    print(\"*\"*i)"
   ]
  },
  {
   "cell_type": "code",
   "execution_count": 107,
   "id": "9e11f0ab",
   "metadata": {},
   "outputs": [
    {
     "name": "stdout",
     "output_type": "stream",
     "text": [
      "* \n",
      "* * \n",
      "* * * \n",
      "* * * * \n",
      "* * * * * \n"
     ]
    }
   ],
   "source": [
    "i=0\n",
    "while True:\n",
    "    i+=1\n",
    "    if i>5: break\n",
    "    for j in range(i):\n",
    "        print(\"*\", end =\" \")\n",
    "    print(\"\")"
   ]
  },
  {
   "cell_type": "code",
   "execution_count": 26,
   "id": "34806fcb",
   "metadata": {},
   "outputs": [
    {
     "name": "stdout",
     "output_type": "stream",
     "text": [
      "79.0\n"
     ]
    }
   ],
   "source": [
    "# 연습문제 Q5\n",
    "A = [70,60,55,75,95,90,80,80,85,100]\n",
    "total = 0\n",
    "for score in A:\n",
    "    total+= score\n",
    "    average= total/len(A)\n",
    "print(average)"
   ]
  },
  {
   "cell_type": "code",
   "execution_count": 43,
   "id": "5cb1e085",
   "metadata": {},
   "outputs": [
    {
     "name": "stdout",
     "output_type": "stream",
     "text": [
      "60 59 58 57 56 55 54 53 52 51 50 49 48 47 46 45 44 43 42 41 40 39 38 37 36 35 34 33 32 31 30 29 28 27 26 25 24 23 22 21 20 19 18 17 16 15 14 13 12 11 10 9 8 7 6 5 4 3 2 1 0 \n",
      "발사!\n"
     ]
    }
   ],
   "source": [
    "# 연습문제 - 방법1 (for)\n",
    "for i in range(60, -1, -1):\n",
    "    print(i, end=\"s \")\n",
    "print(\"\\n발사!\")"
   ]
  },
  {
   "cell_type": "code",
   "execution_count": 44,
   "id": "1f22f13a",
   "metadata": {},
   "outputs": [
    {
     "name": "stdout",
     "output_type": "stream",
     "text": [
      "60 59 58 57 56 55 54 53 52 51 50 49 48 47 46 45 44 43 42 41 40 39 38 37 36 35 34 33 32 31 30 29 28 27 26 25 24 23 22 21 20 19 18 17 16 15 14 13 12 11 10 9 8 7 6 5 4 3 2 1 0 \n",
      "발사!\n"
     ]
    }
   ],
   "source": [
    "# 연습문제- 방법2 (while)\n",
    "ranch = 60\n",
    "while ranch >=0:\n",
    "    print(ranch, end=\" \")\n",
    "    ranch -=1\n",
    "print(\"\\n발사!\")"
   ]
  },
  {
   "cell_type": "code",
   "execution_count": 97,
   "id": "c3d441e6",
   "metadata": {},
   "outputs": [
    {
     "name": "stdout",
     "output_type": "stream",
     "text": [
      "1 2 3 4 5 6 7 8 9 \n",
      "2 4 6 8 10 12 14 16 18 \n",
      "3 6 9 12 15 18 21 24 27 \n",
      "4 8 12 16 20 24 28 32 36 \n",
      "5 10 15 20 25 30 35 40 45 \n",
      "6 12 18 24 30 36 42 48 54 \n",
      "7 14 21 28 35 42 49 56 63 \n",
      "8 16 24 32 40 48 56 64 72 \n",
      "9 18 27 36 45 54 63 72 81 \n"
     ]
    }
   ],
   "source": [
    "i=0\n",
    "while True:\n",
    "    i+=1\n",
    "    if i>9: break\n",
    "    for j in range(1,10):\n",
    "        print(j*i, end =\" \")\n",
    "    print(\"\")"
   ]
  },
  {
   "cell_type": "code",
   "execution_count": 99,
   "id": "80688eb7",
   "metadata": {},
   "outputs": [
    {
     "name": "stdout",
     "output_type": "stream",
     "text": [
      "1 2 3 4 5 6 7 8 9 \n",
      "2 4 6 8 10 12 14 16 18 \n",
      "3 6 9 12 15 18 21 24 27 \n",
      "4 8 12 16 20 24 28 32 36 \n",
      "5 10 15 20 25 30 35 40 45 \n",
      "6 12 18 24 30 36 42 48 54 \n",
      "7 14 21 28 35 42 49 56 63 \n",
      "8 16 24 32 40 48 56 64 72 \n",
      "9 18 27 36 45 54 63 72 81 \n"
     ]
    }
   ],
   "source": [
    "for hang in range(1,10):\n",
    "    for yol in range(1,10):\n",
    "        print (hang*yol, end=\" \")\n",
    "    print(\"\")"
   ]
  },
  {
   "cell_type": "code",
   "execution_count": 102,
   "id": "401dd2a0",
   "metadata": {},
   "outputs": [
    {
     "name": "stdout",
     "output_type": "stream",
     "text": [
      "1 2 3 4 5 6 7 8 9 \n",
      "2 4 6 8 10 12 14 16 18 \n",
      "3 6 9 12 15 18 21 24 27 \n",
      "4 8 12 16 20 24 28 32 36 \n",
      "5 10 15 20 25 30 35 40 45 \n",
      "6 12 18 24 30 36 42 48 54 \n",
      "7 14 21 28 35 42 49 56 63 \n",
      "8 16 24 32 40 48 56 64 72 \n",
      "9 18 27 36 45 54 63 72 81 \n"
     ]
    }
   ],
   "source": [
    "hang = 1\n",
    "while hang <=9:\n",
    "    yol = 1\n",
    "    while yol <=9:\n",
    "        print(hang*yol, end=\" \")\n",
    "        yol+=1\n",
    "    print(\"\")\n",
    "    hang +=1"
   ]
  },
  {
   "cell_type": "code",
   "execution_count": 209,
   "id": "e45c40d1",
   "metadata": {},
   "outputs": [
    {
     "name": "stdout",
     "output_type": "stream",
     "text": [
      "1******\n",
      "12*****\n",
      "123****\n",
      "1234***\n",
      "12345**\n",
      "123456*\n",
      "1234567\n"
     ]
    }
   ],
   "source": [
    "i=1\n",
    "while True:\n",
    "    if i>7: break\n",
    "    for j in range(1,i+1):\n",
    "        print(j, end =\"\")\n",
    "    i+=1\n",
    "    for j in range(1,9-i):\n",
    "        print(\"*\",end = \"\")\n",
    "    print(\"\")"
   ]
  },
  {
   "cell_type": "code",
   "execution_count": 5,
   "id": "733cfd26",
   "metadata": {},
   "outputs": [
    {
     "name": "stdout",
     "output_type": "stream",
     "text": [
      "1******\n",
      "12*****\n",
      "123****\n",
      "1234***\n",
      "12345**\n",
      "123456*\n"
     ]
    }
   ],
   "source": [
    "for hang in range(1,7):\n",
    "    for yol in range(1, hang+1):\n",
    "        print(yol, end =\"\")\n",
    "    for yol in range(1, 8-hang):\n",
    "        print(\"*\", end=\"\")\n",
    "    print(\"\")"
   ]
  },
  {
   "cell_type": "code",
   "execution_count": 213,
   "id": "5eae3940",
   "metadata": {},
   "outputs": [
    {
     "name": "stdout",
     "output_type": "stream",
     "text": [
      "몇 개?3\n",
      "1**\n",
      "12*\n",
      "123\n"
     ]
    }
   ],
   "source": [
    "num = int(input(\"몇 개?\"))\n",
    "for hang in range(1,num+1):\n",
    "    for yol in range(1, hang+1):\n",
    "        print(yol, end =\"\")\n",
    "    for yol in range(1, num+1-hang):\n",
    "        print(\"*\", end=\"\")\n",
    "    print(\"\")"
   ]
  },
  {
   "cell_type": "code",
   "execution_count": 53,
   "id": "142726eb",
   "metadata": {},
   "outputs": [
    {
     "name": "stdout",
     "output_type": "stream",
     "text": [
      "*********\n",
      " *********\n",
      "  *********\n",
      "   *********\n",
      "    *********\n",
      "     *********\n",
      "      *********\n",
      "       *********\n",
      "        *********\n"
     ]
    }
   ],
   "source": [
    "for hang in range(1,10):\n",
    "    for hang in range(1,hang):\n",
    "        print(\" \", end=\"\")\n",
    "    for yol in range(1,10):\n",
    "        print(\"*\" ,end=\"\")\n",
    "    print(\"\")"
   ]
  },
  {
   "cell_type": "code",
   "execution_count": 45,
   "id": "01ed5f71",
   "metadata": {},
   "outputs": [
    {
     "name": "stdout",
     "output_type": "stream",
     "text": [
      "**********\n",
      " **********\n",
      "  **********\n",
      "   **********\n",
      "    **********\n",
      "     **********\n",
      "      **********\n",
      "       **********\n",
      "        **********\n",
      "         **********\n"
     ]
    }
   ],
   "source": [
    "for hang in range(10):\n",
    "    # 빈칸 출력\n",
    "    for space in range(hang):\n",
    "        print(\" \", end=\"\")\n",
    "    # 별표 출력\n",
    "    for star in range(10):\n",
    "        print(\"*\",end=\"\")\n",
    "    print(\"\")"
   ]
  }
 ],
 "metadata": {
  "kernelspec": {
   "display_name": "Python 3",
   "language": "python",
   "name": "python3"
  },
  "language_info": {
   "codemirror_mode": {
    "name": "ipython",
    "version": 3
   },
   "file_extension": ".py",
   "mimetype": "text/x-python",
   "name": "python",
   "nbconvert_exporter": "python",
   "pygments_lexer": "ipython3",
   "version": "3.8.8"
  }
 },
 "nbformat": 4,
 "nbformat_minor": 5
}
