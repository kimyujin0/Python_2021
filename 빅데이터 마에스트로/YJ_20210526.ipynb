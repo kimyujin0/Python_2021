{
 "cells": [
  {
   "cell_type": "code",
   "execution_count": null,
   "id": "4ac7e8cf",
   "metadata": {},
   "outputs": [],
   "source": [
    "f= open(\"c:/테스트폴더/새파일.txt\",\"r\")\n",
    "lines = f.readlines()\n",
    "f.close()\n",
    "print(lines)\n",
    "list1 =[]\n",
    "for item in lines:\n",
    "    list1.append(item.replace(\"\\n\",\"\"))\n",
    "print(list1)"
   ]
  },
  {
   "cell_type": "code",
   "execution_count": null,
   "id": "84472549",
   "metadata": {},
   "outputs": [],
   "source": [
    "f= open(\"c:/테스트폴더/새파일.txt\",\"r\")\n",
    "page=f.read()\n",
    "f.close()\n",
    "print(page)\n",
    "refined_list = page.split(\"\\n\")\n",
    "print(refined_list)"
   ]
  },
  {
   "cell_type": "code",
   "execution_count": null,
   "id": "cfee94ca",
   "metadata": {},
   "outputs": [],
   "source": [
    "f= open(\"c:/테스트폴더/새파일.txt\",\"a\")\n",
    "f.write(\"abcdefghi\")\n",
    "f.close()"
   ]
  },
  {
   "cell_type": "code",
   "execution_count": null,
   "id": "9344f063",
   "metadata": {},
   "outputs": [],
   "source": [
    "# 문자 추가하기(위와 같은 것)\n",
    "with open(\"c:/테스트폴더/새파일.txt\",\"a\")as f:\n",
    "    f.write(\"ㅋㅋㅋ\")\n",
    "f.close()"
   ]
  },
  {
   "cell_type": "code",
   "execution_count": null,
   "id": "8f0e301f",
   "metadata": {},
   "outputs": [],
   "source": [
    "# 절차지향적프로그래밍 procedure, 객체지향적 프로그래밍 class, object"
   ]
  },
  {
   "cell_type": "code",
   "execution_count": null,
   "id": "954de38c",
   "metadata": {},
   "outputs": [],
   "source": [
    "class FourCal:\n",
    "    # self.first라는 구성성분이 있는 것이다\n",
    "    # self.secon라는 구성성분이 class 안에 있다.\n",
    "    def setdata(self, a,b):\n",
    "        self.first=a\n",
    "        self.second=b\n",
    "    def add(self):     # 동작, self가 들어가줘야함 약속\n",
    "        result=self.first+self.second\n",
    "        return result  # self 안붙음\n",
    "    #self가 붙으면 class의 구성요소가 됨\n",
    "    def mul(self): \n",
    "        result=self.first*self.second\n",
    "        return result\n",
    "aCal = FourCal()\n",
    "bCal = FourCal()\n",
    "aCal.setdata(4,2)\n",
    "print(aCal.add())\n",
    "bCal.setdata(3,8)\n",
    "print(bCal.add())"
   ]
  },
  {
   "cell_type": "code",
   "execution_count": null,
   "id": "43811049",
   "metadata": {},
   "outputs": [],
   "source": [
    "class FourCal:\n",
    "    def __init__(self, a,b):\n",
    "        self.first=a\n",
    "        self.second=b\n",
    "    def add(self):    \n",
    "        result=self.first+self.second\n",
    "        return result \n",
    "    def mul(self): \n",
    "        result=self.first*self.second\n",
    "        return result\n",
    "aCal = FourCal(4, 2)\n",
    "bCal = FourCal(3, 8)\n",
    "print(aCal.add())\n",
    "print(bCal.add())"
   ]
  },
  {
   "cell_type": "code",
   "execution_count": null,
   "id": "85cdb0ec",
   "metadata": {},
   "outputs": [],
   "source": [
    "# MoreFourCal 사용한 코드\n",
    "class FourCal:\n",
    "    def __init__(self, a, b):\n",
    "        self.first = a\n",
    "        self.second = b\n",
    "    def add(self): \n",
    "        result = self.first + self.second \n",
    "        return result\n",
    "    def mul(self):\n",
    "        result = self.first * self.second \n",
    "        return result\n",
    "    def div(self):\n",
    "        result = self.first / self.second \n",
    "        return result\n",
    "class MoreFourCal(FourCal): #부모를 입력받아서 계승함(상속받음) / MoreFourCal은 사칙연산에 대한 고민 X (+기능인 pow까지 가능)\n",
    "    def pow(self):\n",
    "        result = self.first**self.second\n",
    "        return result\n",
    "    \n",
    "c = MoreFourCal(4,2)\n",
    "d = c.pow()\n",
    "print(d)"
   ]
  },
  {
   "cell_type": "code",
   "execution_count": null,
   "id": "a3ca52e0",
   "metadata": {},
   "outputs": [],
   "source": [
    "class FourCal:\n",
    "    def __init__(self, a, b):\n",
    "        self.first = a\n",
    "        self.second = b\n",
    "    def add(self): \n",
    "        result = self.first + self.second \n",
    "        return result\n",
    "    def mul(self):\n",
    "        result = self.first * self.second \n",
    "        return result\n",
    "    def div(self):\n",
    "        result = self.first / self.second \n",
    "        return result\n",
    "class MoreFourCal(FourCal): #부모를 입력받아서 계승함(상속받음) / MoreFourCal은 사칙연산에 대한 고민 X (+기능인 pow까지 가능)\n",
    "    def pow(self):\n",
    "        result = self.first**self.second\n",
    "        return result\n",
    "    def div(self):\n",
    "        if self.second == 0:\n",
    "            self.second = 0.00000000000001\n",
    "        result = self.first/self.second\n",
    "        return result\n",
    "c = MoreFourCal(4,0)\n",
    "d = c.pow()\n",
    "print(d)"
   ]
  },
  {
   "cell_type": "code",
   "execution_count": null,
   "id": "e1b0e772",
   "metadata": {},
   "outputs": [],
   "source": [
    "# 클래스 변수 기본\n",
    "class MyMath:\n",
    "    MyPI = 3.14\n",
    "    \n",
    "mm = MyMath()\n",
    "print(mm.MyPI)"
   ]
  },
  {
   "cell_type": "code",
   "execution_count": 1,
   "id": "7dbc105c",
   "metadata": {},
   "outputs": [
    {
     "name": "stdout",
     "output_type": "stream",
     "text": [
      "4 3.14\n"
     ]
    }
   ],
   "source": [
    "class MyMath:\n",
    "    MyPI = 3.14\n",
    "    \n",
    "mm1 = MyMath()\n",
    "mm1.MyPI = 4\n",
    "mm2 = MyMath()\n",
    "print(mm1.MyPI, mm2.MyPI)"
   ]
  },
  {
   "cell_type": "code",
   "execution_count": 8,
   "id": "a463668f",
   "metadata": {},
   "outputs": [
    {
     "name": "stdout",
     "output_type": "stream",
     "text": [
      "7\n",
      "-1\n"
     ]
    }
   ],
   "source": [
    "import mod1 \n",
    "print(mod1.add_mod1(3,4))\n",
    "print(mod1.sub_mod1(3,4))"
   ]
  },
  {
   "cell_type": "code",
   "execution_count": 10,
   "id": "51a562ca",
   "metadata": {},
   "outputs": [
    {
     "name": "stdout",
     "output_type": "stream",
     "text": [
      "7\n",
      "-1\n"
     ]
    }
   ],
   "source": [
    "import mod1 \n",
    "print(mod1.add_mod1(3,4))\n",
    "print(mod1.sub_mod1(3,4))"
   ]
  },
  {
   "cell_type": "code",
   "execution_count": 9,
   "id": "b08b1433",
   "metadata": {},
   "outputs": [
    {
     "name": "stdout",
     "output_type": "stream",
     "text": [
      "7\n",
      "3.14\n",
      "12.56\n"
     ]
    }
   ],
   "source": [
    "import mod2\n",
    "print(mod2.add_mod2(3,4))\n",
    "print(mod2.PI)\n",
    "mm2 = mod2.Math_mod2()\n",
    "print(mm2.solve(2))"
   ]
  },
  {
   "cell_type": "code",
   "execution_count": 13,
   "id": "15d0ed4e",
   "metadata": {},
   "outputs": [],
   "source": [
    "import numpy as np\n",
    "import pandas as pd\n",
    "import matplotlib.pyplot as plt"
   ]
  },
  {
   "cell_type": "code",
   "execution_count": 17,
   "id": "dd988ea6",
   "metadata": {},
   "outputs": [
    {
     "name": "stdout",
     "output_type": "stream",
     "text": [
      "4e+16\n"
     ]
    }
   ],
   "source": [
    "try:\n",
    "    print(4/0)\n",
    "except ZeroDivisionError as e:\n",
    "    print(4/0.0000000000000001)\n",
    "finally:\n",
    "    "
   ]
  },
  {
   "cell_type": "code",
   "execution_count": 18,
   "id": "7341745f",
   "metadata": {},
   "outputs": [
    {
     "name": "stdout",
     "output_type": "stream",
     "text": [
      "[1, 2, 6]\n"
     ]
    }
   ],
   "source": [
    "def positive(l):\n",
    "    result=[]\n",
    "    for  i in l:\n",
    "        if i>0:\n",
    "            result.append(i)\n",
    "    return result\n",
    "print(positive([1,-3,2,0,-5,6]))"
   ]
  },
  {
   "cell_type": "code",
   "execution_count": 20,
   "id": "58d1386b",
   "metadata": {},
   "outputs": [
    {
     "name": "stdout",
     "output_type": "stream",
     "text": [
      "[1, 2, 6]\n"
     ]
    }
   ],
   "source": [
    "def positive(x):\n",
    "    return x >0\n",
    "\n",
    "data=[1,-3,2,0,-5,6]\n",
    "f=filter(positive, data)\n",
    "print(list(f))"
   ]
  },
  {
   "cell_type": "code",
   "execution_count": 21,
   "id": "7c55f5e3",
   "metadata": {},
   "outputs": [
    {
     "data": {
      "text/plain": [
       "[1, 2, 6]"
      ]
     },
     "execution_count": 21,
     "metadata": {},
     "output_type": "execute_result"
    }
   ],
   "source": [
    "data=[1,-3,2,0,-5,6]\n",
    "list(filter(lambda x:x>0, data))"
   ]
  },
  {
   "cell_type": "code",
   "execution_count": 22,
   "id": "48fb9011",
   "metadata": {},
   "outputs": [
    {
     "name": "stdout",
     "output_type": "stream",
     "text": [
      "숫자를 입력하세요10\n",
      "10\n"
     ]
    }
   ],
   "source": [
    "a = input(\"숫자를 입력하세요\")\n",
    "print(a)"
   ]
  },
  {
   "cell_type": "code",
   "execution_count": 25,
   "id": "78620bcf",
   "metadata": {},
   "outputs": [
    {
     "name": "stdout",
     "output_type": "stream",
     "text": [
      "숫자 5개를 입력하세요1 2 3 4 5\n",
      "2 3 4 5 6\n"
     ]
    }
   ],
   "source": [
    "a,b,c,d,e = map(int, input(\"숫자 5개를 입력하세요\").split())\n",
    "print(a+1, b+1, c+1,d+1, e+1)"
   ]
  },
  {
   "cell_type": "code",
   "execution_count": 27,
   "id": "f56a6527",
   "metadata": {},
   "outputs": [
    {
     "data": {
      "text/plain": [
       "[(1, 4, 7), (2, 5, 8), (3, 6, 9)]"
      ]
     },
     "execution_count": 27,
     "metadata": {},
     "output_type": "execute_result"
    }
   ],
   "source": [
    "data1 = [1,2,3]\n",
    "data2 = [4,5,6]\n",
    "data3 = [7,8,9]\n",
    "list(zip(data1,data2,data3))"
   ]
  },
  {
   "cell_type": "code",
   "execution_count": 30,
   "id": "30691e6a",
   "metadata": {},
   "outputs": [
    {
     "data": {
      "text/plain": [
       "environ{'ALLUSERSPROFILE': 'C:\\\\ProgramData',\n",
       "        'APPDATA': 'C:\\\\Users\\\\CPB06GameN\\\\AppData\\\\Roaming',\n",
       "        'COMMONPROGRAMFILES': 'C:\\\\Program Files\\\\Common Files',\n",
       "        'COMMONPROGRAMFILES(X86)': 'C:\\\\Program Files (x86)\\\\Common Files',\n",
       "        'COMMONPROGRAMW6432': 'C:\\\\Program Files\\\\Common Files',\n",
       "        'COMPUTERNAME': 'DESKTOP-DT4Q4RC',\n",
       "        'COMSPEC': 'C:\\\\WINDOWS\\\\system32\\\\cmd.exe',\n",
       "        'DRIVERDATA': 'C:\\\\Windows\\\\System32\\\\Drivers\\\\DriverData',\n",
       "        'FPS_BROWSER_APP_PROFILE_STRING': 'Internet Explorer',\n",
       "        'FPS_BROWSER_USER_PROFILE_STRING': 'Default',\n",
       "        'HOMEDRIVE': 'C:',\n",
       "        'HOMEPATH': '\\\\Users\\\\CPB06GameN',\n",
       "        'JAVA_HOME': 'C:\\\\Program Files\\\\Java\\\\jdk-16.0.1',\n",
       "        'LOCALAPPDATA': 'C:\\\\Users\\\\CPB06GameN\\\\AppData\\\\Local',\n",
       "        'LOGONSERVER': '\\\\\\\\DESKTOP-DT4Q4RC',\n",
       "        'NUMBER_OF_PROCESSORS': '12',\n",
       "        'ONEDRIVE': 'C:\\\\Users\\\\CPB06GameN\\\\OneDrive',\n",
       "        'OS': 'Windows_NT',\n",
       "        'PATH': 'C:\\\\ProgramData\\\\Anaconda3;C:\\\\ProgramData\\\\Anaconda3\\\\Library\\\\mingw-w64\\\\bin;C:\\\\ProgramData\\\\Anaconda3\\\\Library\\\\usr\\\\bin;C:\\\\ProgramData\\\\Anaconda3\\\\Library\\\\bin;C:\\\\ProgramData\\\\Anaconda3\\\\Scripts;C:\\\\Program Files\\\\Common Files\\\\Oracle\\\\Java\\\\javapath;C:\\\\Program Files (x86)\\\\Intel\\\\Intel(R) Management Engine Components\\\\iCLS\\\\;C:\\\\Program Files\\\\Intel\\\\Intel(R) Management Engine Components\\\\iCLS\\\\;C:\\\\Windows\\\\system32;C:\\\\Windows;C:\\\\Windows\\\\System32\\\\Wbem;C:\\\\Windows\\\\System32\\\\WindowsPowerShell\\\\v1.0\\\\;C:\\\\Windows\\\\System32\\\\OpenSSH\\\\;C:\\\\Program Files (x86)\\\\Intel\\\\Intel(R) Management Engine Components\\\\DAL;C:\\\\Program Files\\\\Intel\\\\Intel(R) Management Engine Components\\\\DAL;C:\\\\Program Files\\\\Intel\\\\WiFi\\\\bin\\\\;C:\\\\Program Files\\\\Common Files\\\\Intel\\\\WirelessCommon\\\\;C:\\\\Program Files (x86)\\\\NVIDIA Corporation\\\\PhysX\\\\Common;C:\\\\Program Files\\\\NVIDIA Corporation\\\\NVIDIA NvDLISR;C:\\\\Program Files\\\\Git\\\\cmd;C:\\\\Program Files\\\\Java\\\\jdk-16.0.1\\\\bin;;C:\\\\Program Files\\\\Microsoft VS Code\\\\bin;C:\\\\WINDOWS\\\\system32;C:\\\\WINDOWS;C:\\\\WINDOWS\\\\System32\\\\Wbem;C:\\\\WINDOWS\\\\System32\\\\WindowsPowerShell\\\\v1.0\\\\;C:\\\\WINDOWS\\\\System32\\\\OpenSSH\\\\;C:\\\\Users\\\\CPB06GameN\\\\AppData\\\\Local\\\\Microsoft\\\\WindowsApps;C:\\\\Program Files\\\\Intel\\\\WiFi\\\\bin\\\\;C:\\\\Program Files\\\\Common Files\\\\Intel\\\\WirelessCommon\\\\;C:\\\\Program Files\\\\Bandizip\\\\;',\n",
       "        'PATHEXT': '.COM;.EXE;.BAT;.CMD;.VBS;.VBE;.JS;.JSE;.WSF;.WSH;.MSC',\n",
       "        'PROCESSOR_ARCHITECTURE': 'AMD64',\n",
       "        'PROCESSOR_IDENTIFIER': 'Intel64 Family 6 Model 158 Stepping 10, GenuineIntel',\n",
       "        'PROCESSOR_LEVEL': '6',\n",
       "        'PROCESSOR_REVISION': '9e0a',\n",
       "        'PROGRAMDATA': 'C:\\\\ProgramData',\n",
       "        'PROGRAMFILES': 'C:\\\\Program Files',\n",
       "        'PROGRAMFILES(X86)': 'C:\\\\Program Files (x86)',\n",
       "        'PROGRAMW6432': 'C:\\\\Program Files',\n",
       "        'PSMODULEPATH': 'C:\\\\Program Files\\\\WindowsPowerShell\\\\Modules;C:\\\\WINDOWS\\\\system32\\\\WindowsPowerShell\\\\v1.0\\\\Modules',\n",
       "        'PUBLIC': 'C:\\\\Users\\\\Public',\n",
       "        'SESSIONNAME': 'Console',\n",
       "        'SYSTEMDRIVE': 'C:',\n",
       "        'SYSTEMROOT': 'C:\\\\WINDOWS',\n",
       "        'TEMP': 'C:\\\\Users\\\\CPB06G~1\\\\AppData\\\\Local\\\\Temp',\n",
       "        'TMP': 'C:\\\\Users\\\\CPB06G~1\\\\AppData\\\\Local\\\\Temp',\n",
       "        'USERDOMAIN': 'DESKTOP-DT4Q4RC',\n",
       "        'USERDOMAIN_ROAMINGPROFILE': 'DESKTOP-DT4Q4RC',\n",
       "        'USERNAME': 'CPB06GameN',\n",
       "        'USERPROFILE': 'C:\\\\Users\\\\CPB06GameN',\n",
       "        'WINDIR': 'C:\\\\WINDOWS',\n",
       "        'ZES_ENABLE_SYSMAN': '1',\n",
       "        'CONDA_PREFIX': 'C:\\\\ProgramData\\\\Anaconda3',\n",
       "        'JPY_INTERRUPT_EVENT': '2752',\n",
       "        'IPY_INTERRUPT_EVENT': '2752',\n",
       "        'JPY_PARENT_PID': '796',\n",
       "        'TERM': 'xterm-color',\n",
       "        'CLICOLOR': '1',\n",
       "        'PAGER': 'cat',\n",
       "        'GIT_PAGER': 'cat',\n",
       "        'MPLBACKEND': 'module://ipykernel.pylab.backend_inline'}"
      ]
     },
     "execution_count": 30,
     "metadata": {},
     "output_type": "execute_result"
    }
   ],
   "source": [
    "import os\n",
    "os.environ"
   ]
  },
  {
   "cell_type": "code",
   "execution_count": 32,
   "id": "7f890c47",
   "metadata": {},
   "outputs": [
    {
     "data": {
      "text/plain": [
       "'C:\\\\Users\\\\CPB06GameN\\\\내주피터노트파일들'"
      ]
     },
     "execution_count": 32,
     "metadata": {},
     "output_type": "execute_result"
    }
   ],
   "source": [
    "os.getcwd()"
   ]
  },
  {
   "cell_type": "code",
   "execution_count": 35,
   "id": "7a238c34",
   "metadata": {},
   "outputs": [
    {
     "data": {
      "text/plain": [
       "['C:\\\\Users\\\\CPB06GameN\\\\내주피터노트파일들\\\\mod1.py',\n",
       " 'C:\\\\Users\\\\CPB06GameN\\\\내주피터노트파일들\\\\mod2.py']"
      ]
     },
     "execution_count": 35,
     "metadata": {},
     "output_type": "execute_result"
    }
   ],
   "source": [
    "import glob\n",
    "glob.glob('C:\\\\Users\\\\CPB06GameN\\\\내주피터노트파일들\\\\*.py')"
   ]
  },
  {
   "cell_type": "code",
   "execution_count": 36,
   "id": "98bdf8ac",
   "metadata": {},
   "outputs": [
    {
     "data": {
      "text/plain": [
       "array([6. , 7.5, 8. , 0. , 1. ])"
      ]
     },
     "execution_count": 36,
     "metadata": {},
     "output_type": "execute_result"
    }
   ],
   "source": [
    "data = [6,7.5,8,0,1]\n",
    "arr=np.array(data)\n",
    "arr"
   ]
  },
  {
   "cell_type": "code",
   "execution_count": 37,
   "id": "4c5d93ff",
   "metadata": {},
   "outputs": [
    {
     "data": {
      "text/plain": [
       "[[1, 2, 3, 4], [5, 6, 7, 8]]"
      ]
     },
     "execution_count": 37,
     "metadata": {},
     "output_type": "execute_result"
    }
   ],
   "source": [
    "data2d = [[1,2,3,4],[5,6,7,8]]\n",
    "data2d"
   ]
  },
  {
   "cell_type": "code",
   "execution_count": 38,
   "id": "56081099",
   "metadata": {},
   "outputs": [],
   "source": [
    "arr2d = np.array(data2d)"
   ]
  },
  {
   "cell_type": "code",
   "execution_count": 39,
   "id": "693a55e6",
   "metadata": {},
   "outputs": [
    {
     "data": {
      "text/plain": [
       "2"
      ]
     },
     "execution_count": 39,
     "metadata": {},
     "output_type": "execute_result"
    }
   ],
   "source": [
    "arr2d.ndim   # array의 차원"
   ]
  },
  {
   "cell_type": "code",
   "execution_count": 40,
   "id": "4b72796d",
   "metadata": {},
   "outputs": [
    {
     "data": {
      "text/plain": [
       "(2, 4)"
      ]
     },
     "execution_count": 40,
     "metadata": {},
     "output_type": "execute_result"
    }
   ],
   "source": [
    "arr2d.shape  # array의 형태"
   ]
  },
  {
   "cell_type": "code",
   "execution_count": 41,
   "id": "bd3c482e",
   "metadata": {},
   "outputs": [
    {
     "data": {
      "text/plain": [
       "array([[0., 0., 0., 0., 0., 0.],\n",
       "       [0., 0., 0., 0., 0., 0.],\n",
       "       [0., 0., 0., 0., 0., 0.]])"
      ]
     },
     "execution_count": 41,
     "metadata": {},
     "output_type": "execute_result"
    }
   ],
   "source": [
    "np.zeros((3,6))"
   ]
  },
  {
   "cell_type": "code",
   "execution_count": 45,
   "id": "d590a2b5",
   "metadata": {},
   "outputs": [
    {
     "data": {
      "text/plain": [
       "array([[[0., 0.],\n",
       "        [0., 0.],\n",
       "        [0., 0.]],\n",
       "\n",
       "       [[0., 0.],\n",
       "        [0., 0.],\n",
       "        [0., 0.]]])"
      ]
     },
     "execution_count": 45,
     "metadata": {},
     "output_type": "execute_result"
    }
   ],
   "source": [
    "np.zeros((2,3,2))   #(층, 행 ,열)"
   ]
  },
  {
   "cell_type": "code",
   "execution_count": 46,
   "id": "b1b769ec",
   "metadata": {},
   "outputs": [
    {
     "data": {
      "text/plain": [
       "dtype('float64')"
      ]
     },
     "execution_count": 46,
     "metadata": {},
     "output_type": "execute_result"
    }
   ],
   "source": [
    "np.zeros((2,3,2)).dtype"
   ]
  },
  {
   "cell_type": "code",
   "execution_count": 47,
   "id": "52fd8ad1",
   "metadata": {},
   "outputs": [
    {
     "data": {
      "text/plain": [
       "(2, 3)"
      ]
     },
     "execution_count": 47,
     "metadata": {},
     "output_type": "execute_result"
    }
   ],
   "source": [
    "arr1 = np.zeros((2,3))\n",
    "arr2 = np.ones_like(arr1)\n",
    "arr2.shape"
   ]
  },
  {
   "cell_type": "code",
   "execution_count": 50,
   "id": "717bb82f",
   "metadata": {},
   "outputs": [
    {
     "data": {
      "text/plain": [
       "array([[5, 5, 5],\n",
       "       [5, 5, 5]])"
      ]
     },
     "execution_count": 50,
     "metadata": {},
     "output_type": "execute_result"
    }
   ],
   "source": [
    "arr3 = np.full((2,3),5)\n",
    "arr3"
   ]
  },
  {
   "cell_type": "code",
   "execution_count": 49,
   "id": "6fc01b06",
   "metadata": {},
   "outputs": [
    {
     "data": {
      "text/plain": [
       "array([[1., 0., 0.],\n",
       "       [0., 1., 0.],\n",
       "       [0., 0., 1.]])"
      ]
     },
     "execution_count": 49,
     "metadata": {},
     "output_type": "execute_result"
    }
   ],
   "source": [
    "# 대각행렬\n",
    "arr4 = np.eye(3)\n",
    "arr4"
   ]
  },
  {
   "cell_type": "code",
   "execution_count": null,
   "id": "6b8f159c",
   "metadata": {},
   "outputs": [],
   "source": []
  }
 ],
 "metadata": {
  "kernelspec": {
   "display_name": "Python 3",
   "language": "python",
   "name": "python3"
  },
  "language_info": {
   "codemirror_mode": {
    "name": "ipython",
    "version": 3
   },
   "file_extension": ".py",
   "mimetype": "text/x-python",
   "name": "python",
   "nbconvert_exporter": "python",
   "pygments_lexer": "ipython3",
   "version": "3.8.8"
  }
 },
 "nbformat": 4,
 "nbformat_minor": 5
}
