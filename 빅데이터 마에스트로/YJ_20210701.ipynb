{
 "cells": [
  {
   "cell_type": "code",
   "execution_count": 2,
   "id": "cbb76f0c",
   "metadata": {},
   "outputs": [
    {
     "data": {
      "image/png": "[encoded data removed]",
      "text/plain": [
       "<Figure size 432x288 with 1 Axes>"
      ]
     },
     "metadata": {
      "needs_background": "light"
     },
     "output_type": "display_data"
    }
   ],
   "source": [
    "import mglearn\n",
    "mglearn.plots.plot_binary_confusion_matrix()"
   ]
  },
  {
   "cell_type": "code",
   "execution_count": 3,
   "id": "8da69528",
   "metadata": {},
   "outputs": [
    {
     "name": "stdout",
     "output_type": "stream",
     "text": [
      "Requirement already satisfied: torch in c:\\programdata\\anaconda3\\lib\\site-packages (1.9.0)\n",
      "Requirement already satisfied: cuda in c:\\programdata\\anaconda3\\lib\\site-packages (0.0.1)\n",
      "Requirement already satisfied: typing-extensions in c:\\programdata\\anaconda3\\lib\\site-packages (from torch) (3.7.4.3)\n"
     ]
    }
   ],
   "source": [
    "!pip install torch cuda"
   ]
  },
  {
   "cell_type": "code",
   "execution_count": 4,
   "id": "0c91150d",
   "metadata": {},
   "outputs": [],
   "source": [
    "import torch\n",
    "import numpy as np"
   ]
  },
  {
   "cell_type": "code",
   "execution_count": 6,
   "id": "db723209",
   "metadata": {},
   "outputs": [
    {
     "data": {
      "text/plain": [
       "<module 'torch.version' from 'C:\\\\ProgramData\\\\Anaconda3\\\\lib\\\\site-packages\\\\torch\\\\version.py'>"
      ]
     },
     "execution_count": 6,
     "metadata": {},
     "output_type": "execute_result"
    }
   ],
   "source": [
    "torch.version"
   ]
  },
  {
   "cell_type": "code",
   "execution_count": 6,
   "id": "ad3b4fcb",
   "metadata": {},
   "outputs": [],
   "source": [
    "data = [[1, 2], [3, 4]]"
   ]
  },
  {
   "cell_type": "code",
   "execution_count": 7,
   "id": "09bd3977",
   "metadata": {},
   "outputs": [],
   "source": [
    "np_data = np.array(data)"
   ]
  },
  {
   "cell_type": "code",
   "execution_count": 8,
   "id": "1503e012",
   "metadata": {},
   "outputs": [
    {
     "data": {
      "text/plain": [
       "tensor([[1, 2],\n",
       "        [3, 4]])"
      ]
     },
     "execution_count": 8,
     "metadata": {},
     "output_type": "execute_result"
    }
   ],
   "source": [
    "x_data = torch.tensor(data)\n",
    "x_data"
   ]
  },
  {
   "cell_type": "code",
   "execution_count": 9,
   "id": "e209319b",
   "metadata": {},
   "outputs": [
    {
     "data": {
      "text/plain": [
       "tensor([[1., 2.],\n",
       "        [3., 4.]])"
      ]
     },
     "execution_count": 9,
     "metadata": {},
     "output_type": "execute_result"
    }
   ],
   "source": [
    "x_data_f = torch.FloatTensor(data)\n",
    "x_data_f"
   ]
  },
  {
   "cell_type": "code",
   "execution_count": 10,
   "id": "7d547ffc",
   "metadata": {},
   "outputs": [
    {
     "name": "stdout",
     "output_type": "stream",
     "text": [
      "torch.Size([2, 2])\n"
     ]
    }
   ],
   "source": [
    "print (x_data_f.shape)"
   ]
  },
  {
   "cell_type": "code",
   "execution_count": 11,
   "id": "1e4ed993",
   "metadata": {},
   "outputs": [
    {
     "name": "stdout",
     "output_type": "stream",
     "text": [
      "2\n"
     ]
    }
   ],
   "source": [
    "print (x_data_f.dim())"
   ]
  },
  {
   "cell_type": "code",
   "execution_count": 12,
   "id": "b734e95a",
   "metadata": {},
   "outputs": [
    {
     "name": "stdout",
     "output_type": "stream",
     "text": [
      "torch.Size([2, 2])\n"
     ]
    }
   ],
   "source": [
    "print (x_data_f.size())"
   ]
  },
  {
   "cell_type": "code",
   "execution_count": 13,
   "id": "b4460305",
   "metadata": {},
   "outputs": [
    {
     "data": {
      "text/plain": [
       "tensor([1., 2.])"
      ]
     },
     "execution_count": 13,
     "metadata": {},
     "output_type": "execute_result"
    }
   ],
   "source": [
    "x_data_f[0]"
   ]
  },
  {
   "cell_type": "code",
   "execution_count": 14,
   "id": "81c36a19",
   "metadata": {},
   "outputs": [
    {
     "data": {
      "text/plain": [
       "tensor(2.)"
      ]
     },
     "execution_count": 14,
     "metadata": {},
     "output_type": "execute_result"
    }
   ],
   "source": [
    "x_data_f[0][1]"
   ]
  },
  {
   "cell_type": "code",
   "execution_count": 15,
   "id": "867a0fa8",
   "metadata": {},
   "outputs": [
    {
     "data": {
      "text/plain": [
       "tensor([1., 2.])"
      ]
     },
     "execution_count": 15,
     "metadata": {},
     "output_type": "execute_result"
    }
   ],
   "source": [
    "x_data_f[0][:]"
   ]
  },
  {
   "cell_type": "code",
   "execution_count": 16,
   "id": "4d6b007c",
   "metadata": {},
   "outputs": [
    {
     "name": "stdout",
     "output_type": "stream",
     "text": [
      "tensor([3., 7.])\n"
     ]
    }
   ],
   "source": [
    "t1 = torch.FloatTensor([1,3])\n",
    "t2 = torch.FloatTensor([2,4])\n",
    "print(t1+t2)"
   ]
  },
  {
   "cell_type": "code",
   "execution_count": 17,
   "id": "2cff79fa",
   "metadata": {},
   "outputs": [
    {
     "name": "stdout",
     "output_type": "stream",
     "text": [
      "tensor([3., 5.])\n"
     ]
    }
   ],
   "source": [
    "t1 = torch.FloatTensor([1,3])\n",
    "t2 = torch.FloatTensor([2])\n",
    "print(t1+t2)"
   ]
  },
  {
   "cell_type": "code",
   "execution_count": 18,
   "id": "06688c77",
   "metadata": {},
   "outputs": [
    {
     "data": {
      "text/plain": [
       "tensor(2.5000)"
      ]
     },
     "execution_count": 18,
     "metadata": {},
     "output_type": "execute_result"
    }
   ],
   "source": [
    "x_data_f.mean() #1,2,3,4"
   ]
  },
  {
   "cell_type": "code",
   "execution_count": 19,
   "id": "56e20bbb",
   "metadata": {},
   "outputs": [
    {
     "data": {
      "text/plain": [
       "tensor([2., 3.])"
      ]
     },
     "execution_count": 19,
     "metadata": {},
     "output_type": "execute_result"
    }
   ],
   "source": [
    "x_data_f.mean(dim=0)\n",
    "#1 2\n",
    "#3 4 평균"
   ]
  },
  {
   "cell_type": "code",
   "execution_count": 20,
   "id": "b06f7d9b",
   "metadata": {},
   "outputs": [
    {
     "data": {
      "text/plain": [
       "tensor([1.5000, 3.5000])"
      ]
     },
     "execution_count": 20,
     "metadata": {},
     "output_type": "execute_result"
    }
   ],
   "source": [
    "x_data_f.mean(dim=1)\n",
    "#1 2\n",
    "#3 4 평균"
   ]
  },
  {
   "cell_type": "code",
   "execution_count": 21,
   "id": "9fea5f30",
   "metadata": {},
   "outputs": [],
   "source": [
    "t1 = torch.FloatTensor([1,3])\n",
    "t2 = torch.FloatTensor([2,4])"
   ]
  },
  {
   "cell_type": "code",
   "execution_count": 22,
   "id": "c7e076be",
   "metadata": {},
   "outputs": [
    {
     "data": {
      "text/plain": [
       "tensor([1., 3., 2., 4.])"
      ]
     },
     "execution_count": 22,
     "metadata": {},
     "output_type": "execute_result"
    }
   ],
   "source": [
    "torch.cat([t1, t2], dim=0)"
   ]
  },
  {
   "cell_type": "code",
   "execution_count": 23,
   "id": "756140cd",
   "metadata": {},
   "outputs": [
    {
     "data": {
      "text/plain": [
       "tensor([[1., 3.],\n",
       "        [2., 4.],\n",
       "        [5., 6.]])"
      ]
     },
     "execution_count": 23,
     "metadata": {},
     "output_type": "execute_result"
    }
   ],
   "source": [
    "t3 = torch.FloatTensor([5,6])\n",
    "t4 = torch.stack([t1,t2,t3]) #리스트 형태로 쌓고싶은것을 리스트로 담아주면 합쳐준다\n",
    "t4 "
   ]
  },
  {
   "cell_type": "code",
   "execution_count": 24,
   "id": "e0cfa128",
   "metadata": {},
   "outputs": [
    {
     "data": {
      "text/plain": [
       "tensor([[1., 1.],\n",
       "        [1., 1.],\n",
       "        [1., 1.]])"
      ]
     },
     "execution_count": 24,
     "metadata": {},
     "output_type": "execute_result"
    }
   ],
   "source": [
    "torch.ones_like(t4)"
   ]
  },
  {
   "cell_type": "code",
   "execution_count": 25,
   "id": "9578a81f",
   "metadata": {},
   "outputs": [
    {
     "data": {
      "text/plain": [
       "tensor([[0., 0.],\n",
       "        [0., 0.],\n",
       "        [0., 0.]])"
      ]
     },
     "execution_count": 25,
     "metadata": {},
     "output_type": "execute_result"
    }
   ],
   "source": [
    "torch.zeros_like(t4)"
   ]
  },
  {
   "cell_type": "code",
   "execution_count": 26,
   "id": "5597fae3",
   "metadata": {},
   "outputs": [],
   "source": [
    "X_train = torch.FloatTensor([[1],[2],[3]])\n",
    "y_train = torch.FloatTensor([[2],[4],[6]])"
   ]
  },
  {
   "cell_type": "code",
   "execution_count": null,
   "id": "2058fe96",
   "metadata": {},
   "outputs": [],
   "source": [
    "# 가설 설정\n",
    "# y = W*x + b\n",
    "# 기존 머신러닝 : MSE 평균제곱오차\n",
    "# 딥러닝 세상의 인식 체계\n",
    "# cost function(비용함수)=loss function(손실함수)=error function(오차함수)=objective function(목적함수)\n",
    "# 옵티마이저는 경사하강법(Gradient Desent)을 사용(ex. 머신러닝에서 fit)"
   ]
  },
  {
   "cell_type": "code",
   "execution_count": 28,
   "id": "81776e98",
   "metadata": {},
   "outputs": [
    {
     "name": "stdout",
     "output_type": "stream",
     "text": [
      "tensor([[1.],\n",
      "        [2.],\n",
      "        [3.]])\n",
      "torch.Size([3, 1])\n"
     ]
    }
   ],
   "source": [
    "print(X_train)\n",
    "print(X_train.shape)"
   ]
  },
  {
   "cell_type": "code",
   "execution_count": 29,
   "id": "194d9ef6",
   "metadata": {},
   "outputs": [
    {
     "name": "stdout",
     "output_type": "stream",
     "text": [
      "tensor([[2.],\n",
      "        [4.],\n",
      "        [6.]])\n",
      "torch.Size([3, 1])\n"
     ]
    }
   ],
   "source": [
    "print(y_train)\n",
    "print(y_train.shape)"
   ]
  },
  {
   "cell_type": "code",
   "execution_count": 31,
   "id": "e422ebe2",
   "metadata": {},
   "outputs": [
    {
     "name": "stdout",
     "output_type": "stream",
     "text": [
      "tensor([0.], requires_grad=True)\n"
     ]
    }
   ],
   "source": [
    "W = torch.zeros(1, requires_grad=True) #W는 gradient 변수를 써 변화될 변수다\n",
    "print(W)"
   ]
  },
  {
   "cell_type": "code",
   "execution_count": 32,
   "id": "77b1ad90",
   "metadata": {},
   "outputs": [
    {
     "name": "stdout",
     "output_type": "stream",
     "text": [
      "tensor([0.], requires_grad=True)\n"
     ]
    }
   ],
   "source": [
    "b = torch.zeros(1, requires_grad=True)\n",
    "print(b)"
   ]
  },
  {
   "cell_type": "code",
   "execution_count": null,
   "id": "5e4c30ed",
   "metadata": {},
   "outputs": [],
   "source": [
    "# y = 0*x+0"
   ]
  },
  {
   "cell_type": "code",
   "execution_count": 34,
   "id": "94a0f4dc",
   "metadata": {},
   "outputs": [
    {
     "name": "stdout",
     "output_type": "stream",
     "text": [
      "tensor([[0.],\n",
      "        [0.],\n",
      "        [0.]], grad_fn=<AddBackward0>)\n"
     ]
    }
   ],
   "source": [
    "hypothesis = X_train*W + b\n",
    "print(hypothesis)"
   ]
  },
  {
   "cell_type": "code",
   "execution_count": 35,
   "id": "78b56b42",
   "metadata": {},
   "outputs": [
    {
     "name": "stdout",
     "output_type": "stream",
     "text": [
      "tensor(18.6667, grad_fn=<MeanBackward0>)\n"
     ]
    }
   ],
   "source": [
    "cost = torch.mean((hypothesis-y_train)**2)  # 평균제곱오차\n",
    "print(cost)"
   ]
  },
  {
   "cell_type": "code",
   "execution_count": 36,
   "id": "2b2a25aa",
   "metadata": {},
   "outputs": [],
   "source": [
    "import torch.optim as optim\n",
    "optimizer = optim.SGD([W, b], lr=0.01)"
   ]
  },
  {
   "cell_type": "code",
   "execution_count": 51,
   "id": "efc264e9",
   "metadata": {},
   "outputs": [
    {
     "ename": "RuntimeError",
     "evalue": "Trying to backward through the graph a second time (or directly access saved variables after they have already been freed). Saved intermediate values of the graph are freed when you call .backward() or autograd.grad(). Specify retain_graph=True if you need to backward through the graph a second time or if you need to access saved variables after calling backward.",
     "output_type": "error",
     "traceback": [
      "\u001b[1;31m---------------------------------------------------------------------------\u001b[0m",
      "\u001b[1;31mRuntimeError\u001b[0m                              Traceback (most recent call last)",
      "\u001b[1;32m<ipython-input-51-89958a365a0a>\u001b[0m in \u001b[0;36m<module>\u001b[1;34m\u001b[0m\n\u001b[0;32m      1\u001b[0m \u001b[0moptimizer\u001b[0m\u001b[1;33m.\u001b[0m\u001b[0mzero_grad\u001b[0m\u001b[1;33m(\u001b[0m\u001b[1;33m)\u001b[0m\u001b[1;33m\u001b[0m\u001b[1;33m\u001b[0m\u001b[0m\n\u001b[1;32m----> 2\u001b[1;33m \u001b[0mcost\u001b[0m\u001b[1;33m.\u001b[0m\u001b[0mbackward\u001b[0m\u001b[1;33m(\u001b[0m\u001b[1;33m)\u001b[0m  \u001b[1;31m# 역추적\u001b[0m\u001b[1;33m\u001b[0m\u001b[1;33m\u001b[0m\u001b[0m\n\u001b[0m\u001b[0;32m      3\u001b[0m \u001b[0moptimizer\u001b[0m\u001b[1;33m.\u001b[0m\u001b[0mstep\u001b[0m\u001b[1;33m(\u001b[0m\u001b[1;33m)\u001b[0m\u001b[1;33m\u001b[0m\u001b[1;33m\u001b[0m\u001b[0m\n",
      "\u001b[1;32mC:\\ProgramData\\Anaconda3\\lib\\site-packages\\torch\\_tensor.py\u001b[0m in \u001b[0;36mbackward\u001b[1;34m(self, gradient, retain_graph, create_graph, inputs)\u001b[0m\n\u001b[0;32m    253\u001b[0m                 \u001b[0mcreate_graph\u001b[0m\u001b[1;33m=\u001b[0m\u001b[0mcreate_graph\u001b[0m\u001b[1;33m,\u001b[0m\u001b[1;33m\u001b[0m\u001b[1;33m\u001b[0m\u001b[0m\n\u001b[0;32m    254\u001b[0m                 inputs=inputs)\n\u001b[1;32m--> 255\u001b[1;33m         \u001b[0mtorch\u001b[0m\u001b[1;33m.\u001b[0m\u001b[0mautograd\u001b[0m\u001b[1;33m.\u001b[0m\u001b[0mbackward\u001b[0m\u001b[1;33m(\u001b[0m\u001b[0mself\u001b[0m\u001b[1;33m,\u001b[0m \u001b[0mgradient\u001b[0m\u001b[1;33m,\u001b[0m \u001b[0mretain_graph\u001b[0m\u001b[1;33m,\u001b[0m \u001b[0mcreate_graph\u001b[0m\u001b[1;33m,\u001b[0m \u001b[0minputs\u001b[0m\u001b[1;33m=\u001b[0m\u001b[0minputs\u001b[0m\u001b[1;33m)\u001b[0m\u001b[1;33m\u001b[0m\u001b[1;33m\u001b[0m\u001b[0m\n\u001b[0m\u001b[0;32m    256\u001b[0m \u001b[1;33m\u001b[0m\u001b[0m\n\u001b[0;32m    257\u001b[0m     \u001b[1;32mdef\u001b[0m \u001b[0mregister_hook\u001b[0m\u001b[1;33m(\u001b[0m\u001b[0mself\u001b[0m\u001b[1;33m,\u001b[0m \u001b[0mhook\u001b[0m\u001b[1;33m)\u001b[0m\u001b[1;33m:\u001b[0m\u001b[1;33m\u001b[0m\u001b[1;33m\u001b[0m\u001b[0m\n",
      "\u001b[1;32mC:\\ProgramData\\Anaconda3\\lib\\site-packages\\torch\\autograd\\__init__.py\u001b[0m in \u001b[0;36mbackward\u001b[1;34m(tensors, grad_tensors, retain_graph, create_graph, grad_variables, inputs)\u001b[0m\n\u001b[0;32m    145\u001b[0m         \u001b[0mretain_graph\u001b[0m \u001b[1;33m=\u001b[0m \u001b[0mcreate_graph\u001b[0m\u001b[1;33m\u001b[0m\u001b[1;33m\u001b[0m\u001b[0m\n\u001b[0;32m    146\u001b[0m \u001b[1;33m\u001b[0m\u001b[0m\n\u001b[1;32m--> 147\u001b[1;33m     Variable._execution_engine.run_backward(\n\u001b[0m\u001b[0;32m    148\u001b[0m         \u001b[0mtensors\u001b[0m\u001b[1;33m,\u001b[0m \u001b[0mgrad_tensors_\u001b[0m\u001b[1;33m,\u001b[0m \u001b[0mretain_graph\u001b[0m\u001b[1;33m,\u001b[0m \u001b[0mcreate_graph\u001b[0m\u001b[1;33m,\u001b[0m \u001b[0minputs\u001b[0m\u001b[1;33m,\u001b[0m\u001b[1;33m\u001b[0m\u001b[1;33m\u001b[0m\u001b[0m\n\u001b[0;32m    149\u001b[0m         allow_unreachable=True, accumulate_grad=True)  # allow_unreachable flag\n",
      "\u001b[1;31mRuntimeError\u001b[0m: Trying to backward through the graph a second time (or directly access saved variables after they have already been freed). Saved intermediate values of the graph are freed when you call .backward() or autograd.grad(). Specify retain_graph=True if you need to backward through the graph a second time or if you need to access saved variables after calling backward."
     ]
    }
   ],
   "source": [
    "optimizer.zero_grad()\n",
    "cost.backward()  # 역추적\n",
    "optimizer.step()"
   ]
  },
  {
   "cell_type": "code",
   "execution_count": 53,
   "id": "aed601fe",
   "metadata": {},
   "outputs": [
    {
     "name": "stdout",
     "output_type": "stream",
     "text": [
      "Epoch   0/20000 W:0.019, b:0.008 cost:18.66667\n",
      "Epoch 200/20000 W:1.513, b:0.624 cost:0.28531\n",
      "Epoch 400/20000 W:1.686, b:0.661 cost:0.06679\n",
      "Epoch 600/20000 W:1.717, b:0.637 cost:0.05845\n",
      "Epoch 800/20000 W:1.732, b:0.608 cost:0.05306\n",
      "Epoch1000/20000 W:1.745, b:0.579 cost:0.04820\n",
      "Epoch1200/20000 W:1.757, b:0.552 cost:0.04378\n",
      "Epoch1400/20000 W:1.768, b:0.526 cost:0.03976\n",
      "Epoch1600/20000 W:1.779, b:0.502 cost:0.03612\n",
      "Epoch1800/20000 W:1.790, b:0.478 cost:0.03281\n",
      "Epoch2000/20000 W:1.800, b:0.456 cost:0.02980\n",
      "Epoch2200/20000 W:1.809, b:0.434 cost:0.02707\n",
      "Epoch2400/20000 W:1.818, b:0.414 cost:0.02458\n",
      "Epoch2600/20000 W:1.826, b:0.394 cost:0.02233\n",
      "Epoch2800/20000 W:1.835, b:0.376 cost:0.02028\n",
      "Epoch3000/20000 W:1.842, b:0.358 cost:0.01842\n",
      "Epoch3200/20000 W:1.850, b:0.341 cost:0.01673\n",
      "Epoch3400/20000 W:1.857, b:0.325 cost:0.01520\n",
      "Epoch3600/20000 W:1.864, b:0.310 cost:0.01381\n",
      "Epoch3800/20000 W:1.870, b:0.296 cost:0.01254\n",
      "Epoch4000/20000 W:1.876, b:0.282 cost:0.01139\n",
      "Epoch4200/20000 W:1.882, b:0.268 cost:0.01035\n",
      "Epoch4400/20000 W:1.887, b:0.256 cost:0.00940\n",
      "Epoch4600/20000 W:1.893, b:0.244 cost:0.00854\n",
      "Epoch4800/20000 W:1.898, b:0.232 cost:0.00775\n",
      "Epoch5000/20000 W:1.903, b:0.222 cost:0.00704\n",
      "Epoch5200/20000 W:1.907, b:0.211 cost:0.00640\n",
      "Epoch5400/20000 W:1.911, b:0.201 cost:0.00581\n",
      "Epoch5600/20000 W:1.916, b:0.192 cost:0.00528\n",
      "Epoch5800/20000 W:1.920, b:0.183 cost:0.00479\n",
      "Epoch6000/20000 W:1.923, b:0.174 cost:0.00435\n",
      "Epoch6200/20000 W:1.927, b:0.166 cost:0.00395\n",
      "Epoch6400/20000 W:1.930, b:0.158 cost:0.00359\n",
      "Epoch6600/20000 W:1.934, b:0.151 cost:0.00326\n",
      "Epoch6800/20000 W:1.937, b:0.144 cost:0.00296\n",
      "Epoch7000/20000 W:1.940, b:0.137 cost:0.00269\n",
      "Epoch7200/20000 W:1.943, b:0.131 cost:0.00245\n",
      "Epoch7400/20000 W:1.945, b:0.124 cost:0.00222\n",
      "Epoch7600/20000 W:1.948, b:0.119 cost:0.00202\n",
      "Epoch7800/20000 W:1.950, b:0.113 cost:0.00183\n",
      "Epoch8000/20000 W:1.953, b:0.108 cost:0.00166\n",
      "Epoch8200/20000 W:1.955, b:0.103 cost:0.00151\n",
      "Epoch8400/20000 W:1.957, b:0.098 cost:0.00137\n",
      "Epoch8600/20000 W:1.959, b:0.093 cost:0.00125\n",
      "Epoch8800/20000 W:1.961, b:0.089 cost:0.00113\n",
      "Epoch9000/20000 W:1.963, b:0.085 cost:0.00103\n",
      "Epoch9200/20000 W:1.965, b:0.081 cost:0.00093\n",
      "Epoch9400/20000 W:1.966, b:0.077 cost:0.00085\n",
      "Epoch9600/20000 W:1.968, b:0.073 cost:0.00077\n",
      "Epoch9800/20000 W:1.969, b:0.070 cost:0.00070\n",
      "Epoch10000/20000 W:1.971, b:0.067 cost:0.00064\n",
      "Epoch10200/20000 W:1.972, b:0.063 cost:0.00058\n",
      "Epoch10400/20000 W:1.973, b:0.060 cost:0.00052\n",
      "Epoch10600/20000 W:1.975, b:0.058 cost:0.00048\n",
      "Epoch10800/20000 W:1.976, b:0.055 cost:0.00043\n",
      "Epoch11000/20000 W:1.977, b:0.052 cost:0.00039\n",
      "Epoch11200/20000 W:1.978, b:0.050 cost:0.00036\n",
      "Epoch11400/20000 W:1.979, b:0.048 cost:0.00032\n",
      "Epoch11600/20000 W:1.980, b:0.045 cost:0.00029\n",
      "Epoch11800/20000 W:1.981, b:0.043 cost:0.00027\n",
      "Epoch12000/20000 W:1.982, b:0.041 cost:0.00024\n",
      "Epoch12200/20000 W:1.983, b:0.039 cost:0.00022\n",
      "Epoch12400/20000 W:1.984, b:0.037 cost:0.00020\n",
      "Epoch12600/20000 W:1.984, b:0.036 cost:0.00018\n",
      "Epoch12800/20000 W:1.985, b:0.034 cost:0.00017\n",
      "Epoch13000/20000 W:1.986, b:0.032 cost:0.00015\n",
      "Epoch13200/20000 W:1.986, b:0.031 cost:0.00014\n",
      "Epoch13400/20000 W:1.987, b:0.029 cost:0.00012\n",
      "Epoch13600/20000 W:1.988, b:0.028 cost:0.00011\n",
      "Epoch13800/20000 W:1.988, b:0.027 cost:0.00010\n",
      "Epoch14000/20000 W:1.989, b:0.025 cost:0.00009\n",
      "Epoch14200/20000 W:1.989, b:0.024 cost:0.00008\n",
      "Epoch14400/20000 W:1.990, b:0.023 cost:0.00008\n",
      "Epoch14600/20000 W:1.990, b:0.022 cost:0.00007\n",
      "Epoch14800/20000 W:1.991, b:0.021 cost:0.00006\n",
      "Epoch15000/20000 W:1.991, b:0.020 cost:0.00006\n",
      "Epoch15200/20000 W:1.992, b:0.019 cost:0.00005\n",
      "Epoch15400/20000 W:1.992, b:0.018 cost:0.00005\n",
      "Epoch15600/20000 W:1.992, b:0.017 cost:0.00004\n",
      "Epoch15800/20000 W:1.993, b:0.017 cost:0.00004\n",
      "Epoch16000/20000 W:1.993, b:0.016 cost:0.00004\n",
      "Epoch16200/20000 W:1.993, b:0.015 cost:0.00003\n",
      "Epoch16400/20000 W:1.994, b:0.014 cost:0.00003\n",
      "Epoch16600/20000 W:1.994, b:0.014 cost:0.00003\n",
      "Epoch16800/20000 W:1.994, b:0.013 cost:0.00002\n",
      "Epoch17000/20000 W:1.995, b:0.012 cost:0.00002\n",
      "Epoch17200/20000 W:1.995, b:0.012 cost:0.00002\n",
      "Epoch17400/20000 W:1.995, b:0.011 cost:0.00002\n",
      "Epoch17600/20000 W:1.995, b:0.011 cost:0.00002\n",
      "Epoch17800/20000 W:1.995, b:0.010 cost:0.00002\n",
      "Epoch18000/20000 W:1.996, b:0.010 cost:0.00001\n",
      "Epoch18200/20000 W:1.996, b:0.009 cost:0.00001\n",
      "Epoch18400/20000 W:1.996, b:0.009 cost:0.00001\n",
      "Epoch18600/20000 W:1.996, b:0.008 cost:0.00001\n",
      "Epoch18800/20000 W:1.996, b:0.008 cost:0.00001\n",
      "Epoch19000/20000 W:1.997, b:0.008 cost:0.00001\n",
      "Epoch19200/20000 W:1.997, b:0.007 cost:0.00001\n",
      "Epoch19400/20000 W:1.997, b:0.007 cost:0.00001\n",
      "Epoch19600/20000 W:1.997, b:0.007 cost:0.00001\n",
      "Epoch19800/20000 W:1.997, b:0.006 cost:0.00001\n",
      "0\n"
     ]
    }
   ],
   "source": [
    "import torch\n",
    "import torch.optim as optim\n",
    "import matplotlib.pyplot as plt\n",
    "\n",
    "X_train = torch.FloatTensor([[1],[2],[3]])\n",
    "y_train = torch.FloatTensor([[2],[4],[6]])\n",
    "\n",
    "W = torch.zeros(1, requires_grad=True)\n",
    "b = torch.zeros(1, requires_grad=True)\n",
    "\n",
    "optimizer = optim.SGD([W, b], lr=0.001)\n",
    "\n",
    "nb_epochs = 20000   # 어떠한 시대를 의미\n",
    "list_cost = []\n",
    "for epoch in range(nb_epochs):\n",
    "    hypothesis = X_train*W + b\n",
    "    cost = torch.mean((hypothesis-y_train)**2) # 현재상태에서 가격이 얼마인지\n",
    "    \n",
    "    optimizer.zero_grad()\n",
    "    cost.backward()\n",
    "    optimizer.step()\n",
    "    \n",
    "    if epoch % 200 == 0:\n",
    "        print('Epoch{:4d}/{} W:{:.3f}, b:{:.3f} cost:{:.5f}'.format(epoch, nb_epochs, W.item(),b.item(),cost.item()))\n",
    "        \n",
    "print(len(list_cost))\n",
    "#plt.plot(range(100), list_cost, marker='x')\n",
    "#plt.show()"
   ]
  },
  {
   "cell_type": "code",
   "execution_count": null,
   "id": "df843c05",
   "metadata": {},
   "outputs": [],
   "source": [
    "# 가설 설정 : x가 3개인 다변량 회귀\n",
    "# y = W1*x1 + W2*x2 +W3*x3 +b"
   ]
  },
  {
   "cell_type": "code",
   "execution_count": 60,
   "id": "453f5905",
   "metadata": {},
   "outputs": [
    {
     "name": "stdout",
     "output_type": "stream",
     "text": [
      "Epoch   0/200000 W1:0.147,W2:0.147,W3:0.149 b:0.002 cost:29661.80078\n",
      "Epoch2000/200000 W1:0.718,W2:0.613,W3:0.680 b:0.009 cost:1.07943\n",
      "Epoch4000/200000 W1:0.757,W2:0.571,W3:0.682 b:0.011 cost:0.75448\n",
      "Epoch6000/200000 W1:0.788,W2:0.541,W3:0.682 b:0.012 cost:0.56274\n",
      "Epoch8000/200000 W1:0.812,W2:0.517,W3:0.681 b:0.013 cost:0.44862\n",
      "Epoch10000/200000 W1:0.832,W2:0.500,W3:0.678 b:0.014 cost:0.37978\n",
      "Epoch12000/200000 W1:0.848,W2:0.488,W3:0.675 b:0.015 cost:0.33738\n",
      "Epoch14000/200000 W1:0.861,W2:0.478,W3:0.671 b:0.016 cost:0.31050\n",
      "Epoch16000/200000 W1:0.871,W2:0.472,W3:0.667 b:0.018 cost:0.29273\n",
      "Epoch18000/200000 W1:0.880,W2:0.467,W3:0.663 b:0.019 cost:0.28036\n",
      "Epoch20000/200000 W1:0.888,W2:0.464,W3:0.658 b:0.020 cost:0.27123\n",
      "Epoch22000/200000 W1:0.895,W2:0.462,W3:0.654 b:0.021 cost:0.26408\n",
      "Epoch24000/200000 W1:0.901,W2:0.461,W3:0.649 b:0.021 cost:0.25816\n",
      "Epoch26000/200000 W1:0.906,W2:0.461,W3:0.644 b:0.022 cost:0.25303\n",
      "Epoch28000/200000 W1:0.911,W2:0.461,W3:0.639 b:0.023 cost:0.24845\n",
      "Epoch30000/200000 W1:0.915,W2:0.461,W3:0.635 b:0.024 cost:0.24429\n",
      "Epoch32000/200000 W1:0.919,W2:0.462,W3:0.630 b:0.025 cost:0.24040\n",
      "Epoch34000/200000 W1:0.923,W2:0.463,W3:0.625 b:0.026 cost:0.23679\n",
      "Epoch36000/200000 W1:0.926,W2:0.464,W3:0.621 b:0.027 cost:0.23336\n",
      "Epoch38000/200000 W1:0.930,W2:0.465,W3:0.617 b:0.028 cost:0.23011\n",
      "Epoch40000/200000 W1:0.933,W2:0.466,W3:0.612 b:0.028 cost:0.22704\n",
      "Epoch42000/200000 W1:0.936,W2:0.467,W3:0.608 b:0.029 cost:0.22412\n",
      "Epoch44000/200000 W1:0.939,W2:0.468,W3:0.604 b:0.030 cost:0.22133\n",
      "Epoch46000/200000 W1:0.942,W2:0.469,W3:0.600 b:0.031 cost:0.21868\n",
      "Epoch48000/200000 W1:0.945,W2:0.471,W3:0.596 b:0.032 cost:0.21616\n",
      "Epoch50000/200000 W1:0.947,W2:0.472,W3:0.592 b:0.032 cost:0.21376\n",
      "Epoch52000/200000 W1:0.950,W2:0.473,W3:0.588 b:0.033 cost:0.21148\n",
      "Epoch54000/200000 W1:0.952,W2:0.474,W3:0.585 b:0.034 cost:0.20929\n",
      "Epoch56000/200000 W1:0.955,W2:0.475,W3:0.581 b:0.035 cost:0.20721\n",
      "Epoch58000/200000 W1:0.957,W2:0.477,W3:0.578 b:0.035 cost:0.20523\n",
      "Epoch60000/200000 W1:0.960,W2:0.478,W3:0.574 b:0.036 cost:0.20335\n",
      "Epoch62000/200000 W1:0.962,W2:0.479,W3:0.571 b:0.037 cost:0.20155\n",
      "Epoch64000/200000 W1:0.964,W2:0.480,W3:0.568 b:0.037 cost:0.19985\n",
      "Epoch66000/200000 W1:0.966,W2:0.481,W3:0.564 b:0.038 cost:0.19821\n",
      "Epoch68000/200000 W1:0.968,W2:0.482,W3:0.561 b:0.039 cost:0.19666\n",
      "Epoch70000/200000 W1:0.970,W2:0.483,W3:0.558 b:0.039 cost:0.19519\n",
      "Epoch72000/200000 W1:0.972,W2:0.484,W3:0.555 b:0.040 cost:0.19376\n",
      "Epoch74000/200000 W1:0.974,W2:0.485,W3:0.552 b:0.041 cost:0.19242\n",
      "Epoch76000/200000 W1:0.976,W2:0.486,W3:0.550 b:0.041 cost:0.19114\n",
      "Epoch78000/200000 W1:0.978,W2:0.487,W3:0.547 b:0.042 cost:0.18991\n",
      "Epoch80000/200000 W1:0.980,W2:0.488,W3:0.544 b:0.042 cost:0.18876\n",
      "Epoch82000/200000 W1:0.982,W2:0.489,W3:0.542 b:0.043 cost:0.18765\n",
      "Epoch84000/200000 W1:0.983,W2:0.489,W3:0.539 b:0.044 cost:0.18659\n",
      "Epoch86000/200000 W1:0.985,W2:0.490,W3:0.537 b:0.044 cost:0.18558\n",
      "Epoch88000/200000 W1:0.987,W2:0.491,W3:0.534 b:0.045 cost:0.18462\n",
      "Epoch90000/200000 W1:0.988,W2:0.492,W3:0.532 b:0.045 cost:0.18371\n",
      "Epoch92000/200000 W1:0.990,W2:0.493,W3:0.529 b:0.046 cost:0.18284\n",
      "Epoch94000/200000 W1:0.991,W2:0.493,W3:0.527 b:0.047 cost:0.18201\n",
      "Epoch96000/200000 W1:0.993,W2:0.494,W3:0.525 b:0.047 cost:0.18122\n",
      "Epoch98000/200000 W1:0.994,W2:0.495,W3:0.523 b:0.048 cost:0.18047\n",
      "Epoch100000/200000 W1:0.996,W2:0.496,W3:0.521 b:0.048 cost:0.17974\n",
      "Epoch102000/200000 W1:0.997,W2:0.496,W3:0.519 b:0.049 cost:0.17906\n",
      "Epoch104000/200000 W1:0.998,W2:0.497,W3:0.517 b:0.049 cost:0.17841\n",
      "Epoch106000/200000 W1:1.000,W2:0.498,W3:0.515 b:0.050 cost:0.17778\n",
      "Epoch108000/200000 W1:1.001,W2:0.498,W3:0.513 b:0.050 cost:0.17719\n",
      "Epoch110000/200000 W1:1.002,W2:0.499,W3:0.511 b:0.051 cost:0.17664\n",
      "Epoch112000/200000 W1:1.003,W2:0.499,W3:0.509 b:0.051 cost:0.17610\n",
      "Epoch114000/200000 W1:1.004,W2:0.500,W3:0.507 b:0.052 cost:0.17559\n",
      "Epoch116000/200000 W1:1.006,W2:0.501,W3:0.506 b:0.052 cost:0.17509\n",
      "Epoch118000/200000 W1:1.007,W2:0.501,W3:0.504 b:0.053 cost:0.17462\n",
      "Epoch120000/200000 W1:1.008,W2:0.502,W3:0.502 b:0.053 cost:0.17416\n",
      "Epoch122000/200000 W1:1.009,W2:0.502,W3:0.501 b:0.054 cost:0.17374\n",
      "Epoch124000/200000 W1:1.010,W2:0.503,W3:0.499 b:0.054 cost:0.17334\n",
      "Epoch126000/200000 W1:1.011,W2:0.503,W3:0.498 b:0.055 cost:0.17296\n",
      "Epoch128000/200000 W1:1.012,W2:0.504,W3:0.496 b:0.055 cost:0.17260\n",
      "Epoch130000/200000 W1:1.013,W2:0.504,W3:0.495 b:0.056 cost:0.17226\n",
      "Epoch132000/200000 W1:1.014,W2:0.505,W3:0.493 b:0.056 cost:0.17192\n",
      "Epoch134000/200000 W1:1.015,W2:0.505,W3:0.492 b:0.056 cost:0.17159\n",
      "Epoch136000/200000 W1:1.016,W2:0.506,W3:0.491 b:0.057 cost:0.17128\n",
      "Epoch138000/200000 W1:1.017,W2:0.506,W3:0.489 b:0.057 cost:0.17098\n",
      "Epoch140000/200000 W1:1.018,W2:0.507,W3:0.488 b:0.058 cost:0.17070\n",
      "Epoch142000/200000 W1:1.018,W2:0.507,W3:0.487 b:0.058 cost:0.17043\n",
      "Epoch144000/200000 W1:1.019,W2:0.507,W3:0.486 b:0.059 cost:0.17018\n",
      "Epoch146000/200000 W1:1.020,W2:0.508,W3:0.484 b:0.059 cost:0.16995\n",
      "Epoch148000/200000 W1:1.021,W2:0.508,W3:0.483 b:0.060 cost:0.16972\n",
      "Epoch150000/200000 W1:1.021,W2:0.509,W3:0.482 b:0.060 cost:0.16951\n",
      "Epoch152000/200000 W1:1.022,W2:0.509,W3:0.481 b:0.060 cost:0.16931\n",
      "Epoch154000/200000 W1:1.023,W2:0.509,W3:0.480 b:0.061 cost:0.16911\n",
      "Epoch156000/200000 W1:1.024,W2:0.510,W3:0.479 b:0.061 cost:0.16892\n",
      "Epoch158000/200000 W1:1.024,W2:0.510,W3:0.478 b:0.062 cost:0.16873\n",
      "Epoch160000/200000 W1:1.025,W2:0.510,W3:0.477 b:0.062 cost:0.16855\n",
      "Epoch162000/200000 W1:1.026,W2:0.511,W3:0.476 b:0.062 cost:0.16838\n",
      "Epoch164000/200000 W1:1.026,W2:0.511,W3:0.475 b:0.063 cost:0.16821\n",
      "Epoch166000/200000 W1:1.027,W2:0.511,W3:0.474 b:0.063 cost:0.16805\n",
      "Epoch168000/200000 W1:1.028,W2:0.512,W3:0.473 b:0.064 cost:0.16791\n",
      "Epoch170000/200000 W1:1.028,W2:0.512,W3:0.472 b:0.064 cost:0.16777\n",
      "Epoch172000/200000 W1:1.029,W2:0.512,W3:0.471 b:0.064 cost:0.16764\n",
      "Epoch174000/200000 W1:1.029,W2:0.513,W3:0.470 b:0.065 cost:0.16752\n",
      "Epoch176000/200000 W1:1.030,W2:0.513,W3:0.470 b:0.065 cost:0.16741\n",
      "Epoch178000/200000 W1:1.030,W2:0.513,W3:0.469 b:0.066 cost:0.16729\n",
      "Epoch180000/200000 W1:1.031,W2:0.513,W3:0.468 b:0.066 cost:0.16719\n",
      "Epoch182000/200000 W1:1.031,W2:0.514,W3:0.467 b:0.066 cost:0.16709\n",
      "Epoch184000/200000 W1:1.032,W2:0.514,W3:0.467 b:0.067 cost:0.16699\n",
      "Epoch186000/200000 W1:1.032,W2:0.514,W3:0.466 b:0.067 cost:0.16690\n",
      "Epoch188000/200000 W1:1.033,W2:0.514,W3:0.465 b:0.067 cost:0.16680\n",
      "Epoch190000/200000 W1:1.033,W2:0.515,W3:0.465 b:0.068 cost:0.16671\n",
      "Epoch192000/200000 W1:1.034,W2:0.515,W3:0.464 b:0.068 cost:0.16663\n",
      "Epoch194000/200000 W1:1.034,W2:0.515,W3:0.463 b:0.068 cost:0.16654\n",
      "Epoch196000/200000 W1:1.035,W2:0.515,W3:0.462 b:0.069 cost:0.16646\n",
      "Epoch198000/200000 W1:1.035,W2:0.515,W3:0.462 b:0.069 cost:0.16638\n"
     ]
    }
   ],
   "source": [
    "X1_train = torch.FloatTensor([[73],[93],[89],[96],[73]])\n",
    "X2_train = torch.FloatTensor([[80],[88],[91],[98],[66]])\n",
    "X3_train = torch.FloatTensor([[75],[93],[90],[100],[70]])\n",
    "\n",
    "y_train = torch.FloatTensor([[152],[185],[180],[196],[142]])\n",
    "\n",
    "W1 = torch.zeros(1, requires_grad=True)\n",
    "W2 = torch.zeros(1, requires_grad=True)\n",
    "W3 = torch.zeros(1, requires_grad=True)\n",
    "b = torch.zeros(1, requires_grad=True)\n",
    "\n",
    "optimizer = optim.SGD([W1,W2,W3, b], lr=0.000005)\n",
    "nb_epochs = 200000\n",
    "for epoch in range(nb_epochs):\n",
    "    hypothesis = X1_train*W1 +X2_train*W2+X3_train*W3 + b\n",
    "    cost = torch.mean((hypothesis-y_train)**2) # 현재상태에서 가격이 얼마인지\n",
    "    \n",
    "    optimizer.zero_grad()\n",
    "    cost.backward()\n",
    "    optimizer.step()\n",
    "    \n",
    "    if epoch % 2000 == 0:\n",
    "        print('Epoch{:4d}/{} W1:{:.3f},W2:{:.3f},W3:{:.3f} b:{:.3f} cost:{:.5f}'.format(epoch, nb_epochs, W1.item(),\n",
    "                                                                                        W2.item(),W3.item(),b.item(),cost.item()))\n",
    " "
   ]
  },
  {
   "cell_type": "code",
   "execution_count": 61,
   "id": "8a45494c",
   "metadata": {},
   "outputs": [],
   "source": [
    "X_train = torch.FloatTensor([[1],[2],[3]])\n",
    "y_train = torch.FloatTensor([[2],[4],[6]])"
   ]
  },
  {
   "cell_type": "code",
   "execution_count": 62,
   "id": "78e85489",
   "metadata": {},
   "outputs": [],
   "source": [
    "import torch.nn as nn"
   ]
  },
  {
   "cell_type": "code",
   "execution_count": 64,
   "id": "495d09f3",
   "metadata": {},
   "outputs": [],
   "source": [
    "model = nn.Linear(1,1)     #(input_dim=1, output_dim=1)"
   ]
  },
  {
   "cell_type": "code",
   "execution_count": 65,
   "id": "18f294b7",
   "metadata": {},
   "outputs": [
    {
     "name": "stdout",
     "output_type": "stream",
     "text": [
      "[Parameter containing:\n",
      "tensor([[0.3228]], requires_grad=True), Parameter containing:\n",
      "tensor([0.7731], requires_grad=True)]\n"
     ]
    }
   ],
   "source": [
    "print(list(model.parameters()))"
   ]
  },
  {
   "cell_type": "code",
   "execution_count": 71,
   "id": "d8606ccf",
   "metadata": {},
   "outputs": [
    {
     "name": "stdout",
     "output_type": "stream",
     "text": [
      "Epoch   0/2000 loss:24.61172\n",
      "Epoch 100/2000 loss:0.21515\n",
      "Epoch 200/2000 loss:0.13295\n",
      "Epoch 300/2000 loss:0.08215\n",
      "Epoch 400/2000 loss:0.05077\n",
      "Epoch 500/2000 loss:0.03137\n",
      "Epoch 600/2000 loss:0.01938\n",
      "Epoch 700/2000 loss:0.01198\n",
      "Epoch 800/2000 loss:0.00740\n",
      "Epoch 900/2000 loss:0.00457\n",
      "Epoch1000/2000 loss:0.00283\n",
      "Epoch1100/2000 loss:0.00175\n",
      "Epoch1200/2000 loss:0.00108\n",
      "Epoch1300/2000 loss:0.00067\n",
      "Epoch1400/2000 loss:0.00041\n",
      "Epoch1500/2000 loss:0.00025\n",
      "Epoch1600/2000 loss:0.00016\n",
      "Epoch1700/2000 loss:0.00010\n",
      "Epoch1800/2000 loss:0.00006\n",
      "Epoch1900/2000 loss:0.00004\n",
      "Epoch2000/2000 loss:0.00002\n"
     ]
    }
   ],
   "source": [
    "import torch.nn.functional as F\n",
    "X_train = torch.FloatTensor([[1],[2],[3]])\n",
    "y_train = torch.FloatTensor([[2],[4],[6]])\n",
    "\n",
    "model = nn.Linear(1,1)\n",
    "\n",
    "optimizer = optim.SGD(model.parameters(), lr=0.01)\n",
    "\n",
    "nb_epochs = 2000\n",
    "for epoch in range(nb_epochs+1):\n",
    "    prediction = model(X_train)\n",
    "    cost = F.mse_loss(prediction, y_train)\n",
    "    optimizer.zero_grad()\n",
    "    cost.backward()\n",
    "    optimizer.step()\n",
    "    \n",
    "    if epoch % 100 == 0:\n",
    "        print('Epoch{:4d}/{} loss:{:.5f}'.format(epoch, nb_epochs, cost.item()))"
   ]
  },
  {
   "cell_type": "code",
   "execution_count": 72,
   "id": "0a052040",
   "metadata": {},
   "outputs": [
    {
     "data": {
      "text/plain": [
       "tensor([[3.0043]], grad_fn=<AddmmBackward>)"
      ]
     },
     "execution_count": 72,
     "metadata": {},
     "output_type": "execute_result"
    }
   ],
   "source": [
    "new_input = torch.FloatTensor([[1.5]])\n",
    "pred_y = model(new_input)\n",
    "pred_y"
   ]
  },
  {
   "cell_type": "code",
   "execution_count": null,
   "id": "7710c34c",
   "metadata": {},
   "outputs": [],
   "source": []
  },
  {
   "cell_type": "code",
   "execution_count": null,
   "id": "c7dec09c",
   "metadata": {},
   "outputs": [],
   "source": []
  },
  {
   "cell_type": "code",
   "execution_count": null,
   "id": "2bcff5a7",
   "metadata": {},
   "outputs": [],
   "source": []
  },
  {
   "cell_type": "code",
   "execution_count": null,
   "id": "8d448c06",
   "metadata": {},
   "outputs": [],
   "source": []
  },
  {
   "cell_type": "code",
   "execution_count": null,
   "id": "9575609c",
   "metadata": {},
   "outputs": [],
   "source": []
  },
  {
   "cell_type": "code",
   "execution_count": null,
   "id": "56397425",
   "metadata": {},
   "outputs": [],
   "source": []
  }
 ],
 "metadata": {
  "kernelspec": {
   "display_name": "Python 3",
   "language": "python",
   "name": "python3"
  },
  "language_info": {
   "codemirror_mode": {
    "name": "ipython",
    "version": 3
   },
   "file_extension": ".py",
   "mimetype": "text/x-python",
   "name": "python",
   "nbconvert_exporter": "python",
   "pygments_lexer": "ipython3",
   "version": "3.8.8"
  }
 },
 "nbformat": 4,
 "nbformat_minor": 5
}
